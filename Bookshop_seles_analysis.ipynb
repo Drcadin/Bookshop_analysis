{
 "cells": [
  {
   "cell_type": "markdown",
   "id": "a114850c",
   "metadata": {},
   "source": [
    "<div style=\"display: flex; background-color: RGB(100,100,100);\" >\n",
    "  <h1 style=\"margin: auto; padding: 20px; \"> Projet: ANALYSE DES VENTES D'UNE LIBRAIRIES! </h1>\n",
    "</div>\n",
    "\n",
    "### Sommaire\n",
    "###  <a href=\"#AF\"> 1. Analyse de la forme des fichiers et regularisation en vu des prochaines analyses </a>\n",
    "###  <a href=\"#F\"> 2. Analyse des indicateurs de ventes </a>\n",
    "###  <a href=\"#FA\"> 3. Analyse bivariee et tests statistiques </a>"
   ]
  },
  {
   "cell_type": "markdown",
   "id": "f0b09fb9",
   "metadata": {},
   "source": [
    "## Mission du projet\n",
    "\n",
    "<div style=\"border: 1px solid RGB(100,100,100);\" >\n",
    "    Lapage a un site de vente en ligne depuis 2 ans et ajourd'hui, on souhaite pouvoir analyser ses points forts, ses points faibles, les comportements clients, etc. Afin de décider par exemple si nous devons créer certaines offres, adapter certains prix, etc. Cette analyse va être découpée en deux parties:\n",
    "    <ul>\n",
    "        <li> Une analyse des différents indicateurs de vente (Différents indicateurs et graphiques autour du\n",
    "chiffre d'affaires. Evolution dans le temps du CA et mise en place d'une décomposition en moyenne mobile pour évaluer la tendance globale, faire un zoom sur les références, pour voir un peu les tops et les flops, la répartition par catégorie, etc.) ; </li>\n",
    "        <li> Une analyse plus ciblée sur les clients : l’objectif serait cette fois-ci de comprendre le comportement de nos clients en ligne (le lien entre le genre d’un client et les catégories des livres achetés ; et ensuite le lien entre l’âge des clients et le montant total des achats, la fréquence d’achat, la taille du panier moyen et les catégories des livres achetés.) </li>\n",
    "    </ul>\n",
    "</div>"
   ]
  },
  {
   "cell_type": "markdown",
   "id": "44b23b1a",
   "metadata": {},
   "source": [
    "<div style=\"border: 1px solid RGB(100,100,100);\" >\n",
    "    <h3 style=\"margin: auto; padding: 20px; color: RGB(51,165,182); \"> <a id=\"AF\"> 1 - Analyse de la forme des fichiers et regularisation en vu des prochaines analyses </a></h3>\n",
    "</div>"
   ]
  },
  {
   "cell_type": "code",
   "execution_count": 1,
   "id": "7eb3b836",
   "metadata": {},
   "outputs": [],
   "source": [
    "# Importation des librairies\n",
    "import pandas as pd\n",
    "import numpy as np\n",
    "import matplotlib.pyplot as plt\n",
    "import seaborn as sns \n",
    "from scipy import stats\n",
    "import scipy\n",
    "import statsmodels.api as sm\n",
    "from scipy.stats import f_oneway\n",
    "from scipy.stats import chi2_contingency\n",
    "from scipy.stats import chi2\n",
    "from scipy.stats import pearsonr"
   ]
  },
  {
   "cell_type": "code",
   "execution_count": 2,
   "id": "206ba491",
   "metadata": {},
   "outputs": [],
   "source": [
    "# Importation des fichiers csv sous forme de dataframes\n",
    "customer = pd.read_csv('customers.csv')\n",
    "product = pd.read_csv('products.csv')\n",
    "transaction = pd.read_csv('transactions.csv')"
   ]
  },
  {
   "cell_type": "markdown",
   "id": "20ae7e0d",
   "metadata": {},
   "source": [
    "### Exploration du fichier des clients"
   ]
  },
  {
   "cell_type": "code",
   "execution_count": 3,
   "id": "0678d9d6",
   "metadata": {},
   "outputs": [
    {
     "data": {
      "text/html": [
       "<div>\n",
       "<style scoped>\n",
       "    .dataframe tbody tr th:only-of-type {\n",
       "        vertical-align: middle;\n",
       "    }\n",
       "\n",
       "    .dataframe tbody tr th {\n",
       "        vertical-align: top;\n",
       "    }\n",
       "\n",
       "    .dataframe thead th {\n",
       "        text-align: right;\n",
       "    }\n",
       "</style>\n",
       "<table border=\"1\" class=\"dataframe\">\n",
       "  <thead>\n",
       "    <tr style=\"text-align: right;\">\n",
       "      <th></th>\n",
       "      <th>client_id</th>\n",
       "      <th>sex</th>\n",
       "      <th>birth</th>\n",
       "    </tr>\n",
       "  </thead>\n",
       "  <tbody>\n",
       "    <tr>\n",
       "      <th>0</th>\n",
       "      <td>c_4410</td>\n",
       "      <td>f</td>\n",
       "      <td>1967</td>\n",
       "    </tr>\n",
       "    <tr>\n",
       "      <th>1</th>\n",
       "      <td>c_7839</td>\n",
       "      <td>f</td>\n",
       "      <td>1975</td>\n",
       "    </tr>\n",
       "    <tr>\n",
       "      <th>2</th>\n",
       "      <td>c_1699</td>\n",
       "      <td>f</td>\n",
       "      <td>1984</td>\n",
       "    </tr>\n",
       "    <tr>\n",
       "      <th>3</th>\n",
       "      <td>c_5961</td>\n",
       "      <td>f</td>\n",
       "      <td>1962</td>\n",
       "    </tr>\n",
       "    <tr>\n",
       "      <th>4</th>\n",
       "      <td>c_5320</td>\n",
       "      <td>m</td>\n",
       "      <td>1943</td>\n",
       "    </tr>\n",
       "  </tbody>\n",
       "</table>\n",
       "</div>"
      ],
      "text/plain": [
       "  client_id sex  birth\n",
       "0    c_4410   f   1967\n",
       "1    c_7839   f   1975\n",
       "2    c_1699   f   1984\n",
       "3    c_5961   f   1962\n",
       "4    c_5320   m   1943"
      ]
     },
     "metadata": {},
     "output_type": "display_data"
    },
    {
     "data": {
      "text/plain": [
       "client_id    object\n",
       "sex          object\n",
       "birth         int64\n",
       "dtype: object"
      ]
     },
     "metadata": {},
     "output_type": "display_data"
    },
    {
     "data": {
      "text/plain": [
       "(8623, 3)"
      ]
     },
     "metadata": {},
     "output_type": "display_data"
    },
    {
     "data": {
      "text/plain": [
       "client_id    0\n",
       "sex          0\n",
       "birth        0\n",
       "dtype: int64"
      ]
     },
     "metadata": {},
     "output_type": "display_data"
    },
    {
     "data": {
      "text/plain": [
       "client_id    8623\n",
       "sex             2\n",
       "birth          76\n",
       "dtype: int64"
      ]
     },
     "metadata": {},
     "output_type": "display_data"
    },
    {
     "data": {
      "text/html": [
       "<div>\n",
       "<style scoped>\n",
       "    .dataframe tbody tr th:only-of-type {\n",
       "        vertical-align: middle;\n",
       "    }\n",
       "\n",
       "    .dataframe tbody tr th {\n",
       "        vertical-align: top;\n",
       "    }\n",
       "\n",
       "    .dataframe thead th {\n",
       "        text-align: right;\n",
       "    }\n",
       "</style>\n",
       "<table border=\"1\" class=\"dataframe\">\n",
       "  <thead>\n",
       "    <tr style=\"text-align: right;\">\n",
       "      <th></th>\n",
       "      <th>birth</th>\n",
       "    </tr>\n",
       "  </thead>\n",
       "  <tbody>\n",
       "    <tr>\n",
       "      <th>count</th>\n",
       "      <td>8623.000000</td>\n",
       "    </tr>\n",
       "    <tr>\n",
       "      <th>mean</th>\n",
       "      <td>1978.280877</td>\n",
       "    </tr>\n",
       "    <tr>\n",
       "      <th>std</th>\n",
       "      <td>16.919535</td>\n",
       "    </tr>\n",
       "    <tr>\n",
       "      <th>min</th>\n",
       "      <td>1929.000000</td>\n",
       "    </tr>\n",
       "    <tr>\n",
       "      <th>25%</th>\n",
       "      <td>1966.000000</td>\n",
       "    </tr>\n",
       "    <tr>\n",
       "      <th>50%</th>\n",
       "      <td>1979.000000</td>\n",
       "    </tr>\n",
       "    <tr>\n",
       "      <th>75%</th>\n",
       "      <td>1992.000000</td>\n",
       "    </tr>\n",
       "    <tr>\n",
       "      <th>max</th>\n",
       "      <td>2004.000000</td>\n",
       "    </tr>\n",
       "  </tbody>\n",
       "</table>\n",
       "</div>"
      ],
      "text/plain": [
       "             birth\n",
       "count  8623.000000\n",
       "mean   1978.280877\n",
       "std      16.919535\n",
       "min    1929.000000\n",
       "25%    1966.000000\n",
       "50%    1979.000000\n",
       "75%    1992.000000\n",
       "max    2004.000000"
      ]
     },
     "metadata": {},
     "output_type": "display_data"
    }
   ],
   "source": [
    "display(customer.head())\n",
    "display(customer.dtypes)\n",
    "display(customer.shape)\n",
    "display(customer.isna().sum())\n",
    "display(customer.nunique())\n",
    "display(customer.describe())"
   ]
  },
  {
   "cell_type": "markdown",
   "id": "7ab1c8ab",
   "metadata": {},
   "source": [
    "#### Observation:\n",
    "* On compte 8623 clients carracterises par le sex et la date de naissance ;\n",
    "* Type variable attendu ;\n",
    "* Aucune valeur manquante ; \n",
    "* Aucune valeur aberrante.\n",
    "\n",
    "\n",
    "client_id => Primary Key"
   ]
  },
  {
   "cell_type": "markdown",
   "id": "edc56b37",
   "metadata": {},
   "source": [
    "### Exploration du fichier des produits"
   ]
  },
  {
   "cell_type": "code",
   "execution_count": 4,
   "id": "9b529640",
   "metadata": {},
   "outputs": [
    {
     "data": {
      "text/html": [
       "<div>\n",
       "<style scoped>\n",
       "    .dataframe tbody tr th:only-of-type {\n",
       "        vertical-align: middle;\n",
       "    }\n",
       "\n",
       "    .dataframe tbody tr th {\n",
       "        vertical-align: top;\n",
       "    }\n",
       "\n",
       "    .dataframe thead th {\n",
       "        text-align: right;\n",
       "    }\n",
       "</style>\n",
       "<table border=\"1\" class=\"dataframe\">\n",
       "  <thead>\n",
       "    <tr style=\"text-align: right;\">\n",
       "      <th></th>\n",
       "      <th>id_prod</th>\n",
       "      <th>price</th>\n",
       "      <th>categ</th>\n",
       "    </tr>\n",
       "  </thead>\n",
       "  <tbody>\n",
       "    <tr>\n",
       "      <th>0</th>\n",
       "      <td>0_1421</td>\n",
       "      <td>19.99</td>\n",
       "      <td>0</td>\n",
       "    </tr>\n",
       "    <tr>\n",
       "      <th>1</th>\n",
       "      <td>0_1368</td>\n",
       "      <td>5.13</td>\n",
       "      <td>0</td>\n",
       "    </tr>\n",
       "    <tr>\n",
       "      <th>2</th>\n",
       "      <td>0_731</td>\n",
       "      <td>17.99</td>\n",
       "      <td>0</td>\n",
       "    </tr>\n",
       "    <tr>\n",
       "      <th>3</th>\n",
       "      <td>1_587</td>\n",
       "      <td>4.99</td>\n",
       "      <td>1</td>\n",
       "    </tr>\n",
       "    <tr>\n",
       "      <th>4</th>\n",
       "      <td>0_1507</td>\n",
       "      <td>3.99</td>\n",
       "      <td>0</td>\n",
       "    </tr>\n",
       "  </tbody>\n",
       "</table>\n",
       "</div>"
      ],
      "text/plain": [
       "  id_prod  price  categ\n",
       "0  0_1421  19.99      0\n",
       "1  0_1368   5.13      0\n",
       "2   0_731  17.99      0\n",
       "3   1_587   4.99      1\n",
       "4  0_1507   3.99      0"
      ]
     },
     "metadata": {},
     "output_type": "display_data"
    },
    {
     "data": {
      "text/plain": [
       "id_prod     object\n",
       "price      float64\n",
       "categ        int64\n",
       "dtype: object"
      ]
     },
     "metadata": {},
     "output_type": "display_data"
    },
    {
     "data": {
      "text/plain": [
       "(3287, 3)"
      ]
     },
     "metadata": {},
     "output_type": "display_data"
    },
    {
     "data": {
      "text/plain": [
       "id_prod    0\n",
       "price      0\n",
       "categ      0\n",
       "dtype: int64"
      ]
     },
     "metadata": {},
     "output_type": "display_data"
    },
    {
     "data": {
      "text/plain": [
       "id_prod    3287\n",
       "price      1455\n",
       "categ         3\n",
       "dtype: int64"
      ]
     },
     "metadata": {},
     "output_type": "display_data"
    },
    {
     "data": {
      "text/html": [
       "<div>\n",
       "<style scoped>\n",
       "    .dataframe tbody tr th:only-of-type {\n",
       "        vertical-align: middle;\n",
       "    }\n",
       "\n",
       "    .dataframe tbody tr th {\n",
       "        vertical-align: top;\n",
       "    }\n",
       "\n",
       "    .dataframe thead th {\n",
       "        text-align: right;\n",
       "    }\n",
       "</style>\n",
       "<table border=\"1\" class=\"dataframe\">\n",
       "  <thead>\n",
       "    <tr style=\"text-align: right;\">\n",
       "      <th></th>\n",
       "      <th>price</th>\n",
       "      <th>categ</th>\n",
       "    </tr>\n",
       "  </thead>\n",
       "  <tbody>\n",
       "    <tr>\n",
       "      <th>count</th>\n",
       "      <td>3287.000000</td>\n",
       "      <td>3287.000000</td>\n",
       "    </tr>\n",
       "    <tr>\n",
       "      <th>mean</th>\n",
       "      <td>21.856641</td>\n",
       "      <td>0.370246</td>\n",
       "    </tr>\n",
       "    <tr>\n",
       "      <th>std</th>\n",
       "      <td>29.847908</td>\n",
       "      <td>0.615387</td>\n",
       "    </tr>\n",
       "    <tr>\n",
       "      <th>min</th>\n",
       "      <td>-1.000000</td>\n",
       "      <td>0.000000</td>\n",
       "    </tr>\n",
       "    <tr>\n",
       "      <th>25%</th>\n",
       "      <td>6.990000</td>\n",
       "      <td>0.000000</td>\n",
       "    </tr>\n",
       "    <tr>\n",
       "      <th>50%</th>\n",
       "      <td>13.060000</td>\n",
       "      <td>0.000000</td>\n",
       "    </tr>\n",
       "    <tr>\n",
       "      <th>75%</th>\n",
       "      <td>22.990000</td>\n",
       "      <td>1.000000</td>\n",
       "    </tr>\n",
       "    <tr>\n",
       "      <th>max</th>\n",
       "      <td>300.000000</td>\n",
       "      <td>2.000000</td>\n",
       "    </tr>\n",
       "  </tbody>\n",
       "</table>\n",
       "</div>"
      ],
      "text/plain": [
       "             price        categ\n",
       "count  3287.000000  3287.000000\n",
       "mean     21.856641     0.370246\n",
       "std      29.847908     0.615387\n",
       "min      -1.000000     0.000000\n",
       "25%       6.990000     0.000000\n",
       "50%      13.060000     0.000000\n",
       "75%      22.990000     1.000000\n",
       "max     300.000000     2.000000"
      ]
     },
     "metadata": {},
     "output_type": "display_data"
    }
   ],
   "source": [
    "display(product.head())\n",
    "display(product.dtypes)\n",
    "display(product.shape)\n",
    "display(product.isna().sum())\n",
    "display(product.nunique())\n",
    "display(product.describe())"
   ]
  },
  {
   "cell_type": "markdown",
   "id": "2f2e6957",
   "metadata": {},
   "source": [
    "#### Observation:\n",
    "* Le fichier comporte 3287 produits avec le prix unitaire et la categorie associee (3) ;\n",
    "* Type variable attendu, pour faciliter les analyses, convertir 'categ' en object ;\n",
    "* Aucune valeur manquante ;\n",
    "* Valeurs aberrantes sur prix; prix minimum (-1), piste à explorer ;\n",
    "* Trois valeurs uniques pour 'catégories' ;\n",
    "* A première vue, le premier chiffre de 'id_prod' correspond à la 'catégorie', théorie à vérifier.\n",
    "\n",
    "\n",
    "id_prod => Primary Key"
   ]
  },
  {
   "cell_type": "code",
   "execution_count": 5,
   "id": "fce57086",
   "metadata": {},
   "outputs": [
    {
     "data": {
      "text/html": [
       "<div>\n",
       "<style scoped>\n",
       "    .dataframe tbody tr th:only-of-type {\n",
       "        vertical-align: middle;\n",
       "    }\n",
       "\n",
       "    .dataframe tbody tr th {\n",
       "        vertical-align: top;\n",
       "    }\n",
       "\n",
       "    .dataframe thead th {\n",
       "        text-align: right;\n",
       "    }\n",
       "</style>\n",
       "<table border=\"1\" class=\"dataframe\">\n",
       "  <thead>\n",
       "    <tr style=\"text-align: right;\">\n",
       "      <th></th>\n",
       "      <th>id_prod</th>\n",
       "      <th>price</th>\n",
       "      <th>categ</th>\n",
       "    </tr>\n",
       "  </thead>\n",
       "  <tbody>\n",
       "    <tr>\n",
       "      <th>731</th>\n",
       "      <td>T_0</td>\n",
       "      <td>-1.0</td>\n",
       "      <td>0</td>\n",
       "    </tr>\n",
       "  </tbody>\n",
       "</table>\n",
       "</div>"
      ],
      "text/plain": [
       "    id_prod  price categ\n",
       "731     T_0   -1.0     0"
      ]
     },
     "execution_count": 5,
     "metadata": {},
     "output_type": "execute_result"
    }
   ],
   "source": [
    "# Convertir variable 'categ' en string\n",
    "product['categ'] = product['categ'].astype(str)\n",
    "# Chercher les produits dont le prix est 0 ou moins\n",
    "product.loc[product['price']<=0]"
   ]
  },
  {
   "cell_type": "markdown",
   "id": "adcac6b8",
   "metadata": {},
   "source": [
    "### Exploration du fichier des transaction(commandes)"
   ]
  },
  {
   "cell_type": "code",
   "execution_count": 6,
   "id": "d7209508",
   "metadata": {},
   "outputs": [
    {
     "data": {
      "text/html": [
       "<div>\n",
       "<style scoped>\n",
       "    .dataframe tbody tr th:only-of-type {\n",
       "        vertical-align: middle;\n",
       "    }\n",
       "\n",
       "    .dataframe tbody tr th {\n",
       "        vertical-align: top;\n",
       "    }\n",
       "\n",
       "    .dataframe thead th {\n",
       "        text-align: right;\n",
       "    }\n",
       "</style>\n",
       "<table border=\"1\" class=\"dataframe\">\n",
       "  <thead>\n",
       "    <tr style=\"text-align: right;\">\n",
       "      <th></th>\n",
       "      <th>id_prod</th>\n",
       "      <th>date</th>\n",
       "      <th>session_id</th>\n",
       "      <th>client_id</th>\n",
       "    </tr>\n",
       "  </thead>\n",
       "  <tbody>\n",
       "    <tr>\n",
       "      <th>0</th>\n",
       "      <td>0_1518</td>\n",
       "      <td>2022-05-20 13:21:29.043970</td>\n",
       "      <td>s_211425</td>\n",
       "      <td>c_103</td>\n",
       "    </tr>\n",
       "    <tr>\n",
       "      <th>1</th>\n",
       "      <td>1_251</td>\n",
       "      <td>2022-02-02 07:55:19.149409</td>\n",
       "      <td>s_158752</td>\n",
       "      <td>c_8534</td>\n",
       "    </tr>\n",
       "    <tr>\n",
       "      <th>2</th>\n",
       "      <td>0_1277</td>\n",
       "      <td>2022-06-18 15:44:33.155329</td>\n",
       "      <td>s_225667</td>\n",
       "      <td>c_6714</td>\n",
       "    </tr>\n",
       "    <tr>\n",
       "      <th>3</th>\n",
       "      <td>2_209</td>\n",
       "      <td>2021-06-24 04:19:29.835891</td>\n",
       "      <td>s_52962</td>\n",
       "      <td>c_6941</td>\n",
       "    </tr>\n",
       "    <tr>\n",
       "      <th>4</th>\n",
       "      <td>0_1509</td>\n",
       "      <td>2023-01-11 08:22:08.194479</td>\n",
       "      <td>s_325227</td>\n",
       "      <td>c_4232</td>\n",
       "    </tr>\n",
       "  </tbody>\n",
       "</table>\n",
       "</div>"
      ],
      "text/plain": [
       "  id_prod                        date session_id client_id\n",
       "0  0_1518  2022-05-20 13:21:29.043970   s_211425     c_103\n",
       "1   1_251  2022-02-02 07:55:19.149409   s_158752    c_8534\n",
       "2  0_1277  2022-06-18 15:44:33.155329   s_225667    c_6714\n",
       "3   2_209  2021-06-24 04:19:29.835891    s_52962    c_6941\n",
       "4  0_1509  2023-01-11 08:22:08.194479   s_325227    c_4232"
      ]
     },
     "metadata": {},
     "output_type": "display_data"
    },
    {
     "data": {
      "text/plain": [
       "id_prod       object\n",
       "date          object\n",
       "session_id    object\n",
       "client_id     object\n",
       "dtype: object"
      ]
     },
     "metadata": {},
     "output_type": "display_data"
    },
    {
     "data": {
      "text/plain": [
       "(679532, 4)"
      ]
     },
     "metadata": {},
     "output_type": "display_data"
    },
    {
     "data": {
      "text/plain": [
       "id_prod       0\n",
       "date          0\n",
       "session_id    0\n",
       "client_id     0\n",
       "dtype: int64"
      ]
     },
     "metadata": {},
     "output_type": "display_data"
    },
    {
     "data": {
      "text/plain": [
       "id_prod         3267\n",
       "date          679371\n",
       "session_id    342316\n",
       "client_id       8602\n",
       "dtype: int64"
      ]
     },
     "metadata": {},
     "output_type": "display_data"
    },
    {
     "data": {
      "text/html": [
       "<div>\n",
       "<style scoped>\n",
       "    .dataframe tbody tr th:only-of-type {\n",
       "        vertical-align: middle;\n",
       "    }\n",
       "\n",
       "    .dataframe tbody tr th {\n",
       "        vertical-align: top;\n",
       "    }\n",
       "\n",
       "    .dataframe thead th {\n",
       "        text-align: right;\n",
       "    }\n",
       "</style>\n",
       "<table border=\"1\" class=\"dataframe\">\n",
       "  <thead>\n",
       "    <tr style=\"text-align: right;\">\n",
       "      <th></th>\n",
       "      <th>id_prod</th>\n",
       "      <th>date</th>\n",
       "      <th>session_id</th>\n",
       "      <th>client_id</th>\n",
       "    </tr>\n",
       "  </thead>\n",
       "  <tbody>\n",
       "    <tr>\n",
       "      <th>count</th>\n",
       "      <td>679532</td>\n",
       "      <td>679532</td>\n",
       "      <td>679532</td>\n",
       "      <td>679532</td>\n",
       "    </tr>\n",
       "    <tr>\n",
       "      <th>unique</th>\n",
       "      <td>3267</td>\n",
       "      <td>679371</td>\n",
       "      <td>342316</td>\n",
       "      <td>8602</td>\n",
       "    </tr>\n",
       "    <tr>\n",
       "      <th>top</th>\n",
       "      <td>1_369</td>\n",
       "      <td>test_2021-03-01 02:30:02.237413</td>\n",
       "      <td>s_0</td>\n",
       "      <td>c_1609</td>\n",
       "    </tr>\n",
       "    <tr>\n",
       "      <th>freq</th>\n",
       "      <td>2252</td>\n",
       "      <td>13</td>\n",
       "      <td>200</td>\n",
       "      <td>25488</td>\n",
       "    </tr>\n",
       "  </tbody>\n",
       "</table>\n",
       "</div>"
      ],
      "text/plain": [
       "       id_prod                             date session_id client_id\n",
       "count   679532                           679532     679532    679532\n",
       "unique    3267                           679371     342316      8602\n",
       "top      1_369  test_2021-03-01 02:30:02.237413        s_0    c_1609\n",
       "freq      2252                               13        200     25488"
      ]
     },
     "metadata": {},
     "output_type": "display_data"
    }
   ],
   "source": [
    "display(transaction.head())\n",
    "display(transaction.dtypes)\n",
    "display(transaction.shape)\n",
    "display(transaction.isna().sum())\n",
    "display(transaction.nunique())\n",
    "display(transaction.describe())"
   ]
  },
  {
   "cell_type": "markdown",
   "id": "e9f33124",
   "metadata": {},
   "source": [
    "#### Observation:\n",
    "* Variable 'date' de mauvais type\n",
    "* Aucune valeurs manquante\n",
    "* Nombre de valeurs uniques pour 'date' et 'cession' étranges, aucun ne correspond au nombre de lignes total de la dataframe. Indique des doublons. \n",
    "\n",
    "#### Action à prendre: \n",
    "* Vérifier variable 'date'\n",
    "* Explorer les variables 'date' et 'session_id'"
   ]
  },
  {
   "cell_type": "code",
   "execution_count": 7,
   "id": "31d2f031",
   "metadata": {},
   "outputs": [
    {
     "data": {
      "text/html": [
       "<div>\n",
       "<style scoped>\n",
       "    .dataframe tbody tr th:only-of-type {\n",
       "        vertical-align: middle;\n",
       "    }\n",
       "\n",
       "    .dataframe tbody tr th {\n",
       "        vertical-align: top;\n",
       "    }\n",
       "\n",
       "    .dataframe thead th {\n",
       "        text-align: right;\n",
       "    }\n",
       "</style>\n",
       "<table border=\"1\" class=\"dataframe\">\n",
       "  <thead>\n",
       "    <tr style=\"text-align: right;\">\n",
       "      <th></th>\n",
       "      <th>id_prod</th>\n",
       "      <th>date</th>\n",
       "      <th>session_id</th>\n",
       "      <th>client_id</th>\n",
       "    </tr>\n",
       "  </thead>\n",
       "  <tbody>\n",
       "    <tr>\n",
       "      <th>96687</th>\n",
       "      <td>T_0</td>\n",
       "      <td>test_2021-03-01 02:30:02.237412</td>\n",
       "      <td>s_0</td>\n",
       "      <td>ct_1</td>\n",
       "    </tr>\n",
       "    <tr>\n",
       "      <th>453857</th>\n",
       "      <td>T_0</td>\n",
       "      <td>test_2021-03-01 02:30:02.237412</td>\n",
       "      <td>s_0</td>\n",
       "      <td>ct_1</td>\n",
       "    </tr>\n",
       "    <tr>\n",
       "      <th>91133</th>\n",
       "      <td>T_0</td>\n",
       "      <td>test_2021-03-01 02:30:02.237412</td>\n",
       "      <td>s_0</td>\n",
       "      <td>ct_1</td>\n",
       "    </tr>\n",
       "    <tr>\n",
       "      <th>607892</th>\n",
       "      <td>T_0</td>\n",
       "      <td>test_2021-03-01 02:30:02.237412</td>\n",
       "      <td>s_0</td>\n",
       "      <td>ct_0</td>\n",
       "    </tr>\n",
       "    <tr>\n",
       "      <th>548383</th>\n",
       "      <td>T_0</td>\n",
       "      <td>test_2021-03-01 02:30:02.237412</td>\n",
       "      <td>s_0</td>\n",
       "      <td>ct_1</td>\n",
       "    </tr>\n",
       "    <tr>\n",
       "      <th>...</th>\n",
       "      <td>...</td>\n",
       "      <td>...</td>\n",
       "      <td>...</td>\n",
       "      <td>...</td>\n",
       "    </tr>\n",
       "    <tr>\n",
       "      <th>392443</th>\n",
       "      <td>T_0</td>\n",
       "      <td>test_2021-03-01 02:30:02.237448</td>\n",
       "      <td>s_0</td>\n",
       "      <td>ct_0</td>\n",
       "    </tr>\n",
       "    <tr>\n",
       "      <th>19312</th>\n",
       "      <td>T_0</td>\n",
       "      <td>test_2021-03-01 02:30:02.237449</td>\n",
       "      <td>s_0</td>\n",
       "      <td>ct_0</td>\n",
       "    </tr>\n",
       "    <tr>\n",
       "      <th>670680</th>\n",
       "      <td>T_0</td>\n",
       "      <td>test_2021-03-01 02:30:02.237449</td>\n",
       "      <td>s_0</td>\n",
       "      <td>ct_1</td>\n",
       "    </tr>\n",
       "    <tr>\n",
       "      <th>573155</th>\n",
       "      <td>T_0</td>\n",
       "      <td>test_2021-03-01 02:30:02.237449</td>\n",
       "      <td>s_0</td>\n",
       "      <td>ct_0</td>\n",
       "    </tr>\n",
       "    <tr>\n",
       "      <th>246980</th>\n",
       "      <td>T_0</td>\n",
       "      <td>test_2021-03-01 02:30:02.237450</td>\n",
       "      <td>s_0</td>\n",
       "      <td>ct_0</td>\n",
       "    </tr>\n",
       "  </tbody>\n",
       "</table>\n",
       "<p>200 rows × 4 columns</p>\n",
       "</div>"
      ],
      "text/plain": [
       "       id_prod                             date session_id client_id\n",
       "96687      T_0  test_2021-03-01 02:30:02.237412        s_0      ct_1\n",
       "453857     T_0  test_2021-03-01 02:30:02.237412        s_0      ct_1\n",
       "91133      T_0  test_2021-03-01 02:30:02.237412        s_0      ct_1\n",
       "607892     T_0  test_2021-03-01 02:30:02.237412        s_0      ct_0\n",
       "548383     T_0  test_2021-03-01 02:30:02.237412        s_0      ct_1\n",
       "...        ...                              ...        ...       ...\n",
       "392443     T_0  test_2021-03-01 02:30:02.237448        s_0      ct_0\n",
       "19312      T_0  test_2021-03-01 02:30:02.237449        s_0      ct_0\n",
       "670680     T_0  test_2021-03-01 02:30:02.237449        s_0      ct_1\n",
       "573155     T_0  test_2021-03-01 02:30:02.237449        s_0      ct_0\n",
       "246980     T_0  test_2021-03-01 02:30:02.237450        s_0      ct_0\n",
       "\n",
       "[200 rows x 4 columns]"
      ]
     },
     "metadata": {},
     "output_type": "display_data"
    },
    {
     "data": {
      "text/plain": [
       "id_prod        1\n",
       "date          39\n",
       "session_id     1\n",
       "client_id      2\n",
       "dtype: int64"
      ]
     },
     "metadata": {},
     "output_type": "display_data"
    }
   ],
   "source": [
    "# Lignes contenant 'test' dans variable 'date'\n",
    "test = transaction.loc[transaction['date'].str.contains('test')].sort_values('date')\n",
    "display(test)\n",
    "display(test.nunique())"
   ]
  },
  {
   "cell_type": "markdown",
   "id": "dd4e180c",
   "metadata": {},
   "source": [
    "#### Observation:\n",
    "Tous les tests ont été faits le même jours à des fractions de seconde d'intervalles et ce sont les premières transactions faites sur le même 'session_id'. \n",
    "Ces transactions sont les ventes du même produit (T_0) qui correspondent au produit donc le prix est à -1 qu'on avait vu pendant le nettoyage de la dataframe 'produit'.\n",
    "Nous observons que ces transaction sont faîtes par seulement deux clients (ct_0 et ct_1) .  \n",
    "\n",
    "Ce sont sûrement des tests que l'entreprise a fait pour vérifier le fonctionnement du site. \n",
    "Ct qui pourrait indiquer 'client test', T_0 qui pourrait indiquer Produit test. \n"
   ]
  },
  {
   "cell_type": "code",
   "execution_count": 8,
   "id": "350ed6cd",
   "metadata": {},
   "outputs": [],
   "source": [
    "# Filtrage des donnees correspondant aux tests effectues\n",
    "product_test = product['id_prod'].str.contains('T')\n",
    "customer_test = customer['client_id'].str.contains('ct')\n",
    "transaction_test = transaction['date'].str.contains('test')"
   ]
  },
  {
   "cell_type": "code",
   "execution_count": 9,
   "id": "72a98f5a",
   "metadata": {},
   "outputs": [],
   "source": [
    "# Copie des donnees sauf les donnees correspondant aux tests\n",
    "transaction = transaction.loc[~transaction_test].copy()\n",
    "product = product.loc[~product_test].copy()\n",
    "customer = customer.loc[~customer_test].copy()"
   ]
  },
  {
   "cell_type": "code",
   "execution_count": 10,
   "id": "14e823ad",
   "metadata": {},
   "outputs": [],
   "source": [
    "# Conversion variable 'date' en type date. \n",
    "transaction['date'] = pd.to_datetime(transaction['date'])"
   ]
  },
  {
   "cell_type": "code",
   "execution_count": 11,
   "id": "a49c4bb7",
   "metadata": {},
   "outputs": [
    {
     "data": {
      "text/html": [
       "<div>\n",
       "<style scoped>\n",
       "    .dataframe tbody tr th:only-of-type {\n",
       "        vertical-align: middle;\n",
       "    }\n",
       "\n",
       "    .dataframe tbody tr th {\n",
       "        vertical-align: top;\n",
       "    }\n",
       "\n",
       "    .dataframe thead th {\n",
       "        text-align: right;\n",
       "    }\n",
       "</style>\n",
       "<table border=\"1\" class=\"dataframe\">\n",
       "  <thead>\n",
       "    <tr style=\"text-align: right;\">\n",
       "      <th></th>\n",
       "      <th>id_prod</th>\n",
       "      <th>date</th>\n",
       "      <th>session_id</th>\n",
       "      <th>client_id</th>\n",
       "    </tr>\n",
       "  </thead>\n",
       "  <tbody>\n",
       "    <tr>\n",
       "      <th>0</th>\n",
       "      <td>0_1518</td>\n",
       "      <td>2022-05-20 13:21:29.043970</td>\n",
       "      <td>s_211425</td>\n",
       "      <td>c_103</td>\n",
       "    </tr>\n",
       "    <tr>\n",
       "      <th>1</th>\n",
       "      <td>1_251</td>\n",
       "      <td>2022-02-02 07:55:19.149409</td>\n",
       "      <td>s_158752</td>\n",
       "      <td>c_8534</td>\n",
       "    </tr>\n",
       "    <tr>\n",
       "      <th>2</th>\n",
       "      <td>0_1277</td>\n",
       "      <td>2022-06-18 15:44:33.155329</td>\n",
       "      <td>s_225667</td>\n",
       "      <td>c_6714</td>\n",
       "    </tr>\n",
       "    <tr>\n",
       "      <th>3</th>\n",
       "      <td>2_209</td>\n",
       "      <td>2021-06-24 04:19:29.835891</td>\n",
       "      <td>s_52962</td>\n",
       "      <td>c_6941</td>\n",
       "    </tr>\n",
       "    <tr>\n",
       "      <th>4</th>\n",
       "      <td>0_1509</td>\n",
       "      <td>2023-01-11 08:22:08.194479</td>\n",
       "      <td>s_325227</td>\n",
       "      <td>c_4232</td>\n",
       "    </tr>\n",
       "  </tbody>\n",
       "</table>\n",
       "</div>"
      ],
      "text/plain": [
       "  id_prod                       date session_id client_id\n",
       "0  0_1518 2022-05-20 13:21:29.043970   s_211425     c_103\n",
       "1   1_251 2022-02-02 07:55:19.149409   s_158752    c_8534\n",
       "2  0_1277 2022-06-18 15:44:33.155329   s_225667    c_6714\n",
       "3   2_209 2021-06-24 04:19:29.835891    s_52962    c_6941\n",
       "4  0_1509 2023-01-11 08:22:08.194479   s_325227    c_4232"
      ]
     },
     "metadata": {},
     "output_type": "display_data"
    },
    {
     "data": {
      "text/plain": [
       "(679332, 4)"
      ]
     },
     "metadata": {},
     "output_type": "display_data"
    },
    {
     "data": {
      "text/plain": [
       "id_prod               object\n",
       "date          datetime64[ns]\n",
       "session_id            object\n",
       "client_id             object\n",
       "dtype: object"
      ]
     },
     "metadata": {},
     "output_type": "display_data"
    },
    {
     "data": {
      "text/plain": [
       "id_prod         3266\n",
       "date          679332\n",
       "session_id    342315\n",
       "client_id       8600\n",
       "dtype: int64"
      ]
     },
     "metadata": {},
     "output_type": "display_data"
    }
   ],
   "source": [
    "# Vérification des changements sur le dataframe des transactions\n",
    "display(transaction.head())\n",
    "display(transaction.shape)\n",
    "display(transaction.dtypes)\n",
    "display(transaction.nunique())"
   ]
  },
  {
   "cell_type": "markdown",
   "id": "651a5522",
   "metadata": {},
   "source": [
    "### Fusion des dataframes\n",
    "#### Customer et transaction"
   ]
  },
  {
   "cell_type": "code",
   "execution_count": 12,
   "id": "510d68fd",
   "metadata": {},
   "outputs": [
    {
     "data": {
      "text/plain": [
       "['both', 'left_only']\n",
       "Categories (3, object): ['left_only', 'right_only', 'both']"
      ]
     },
     "metadata": {},
     "output_type": "display_data"
    },
    {
     "data": {
      "text/plain": [
       "(679353, 7)"
      ]
     },
     "metadata": {},
     "output_type": "display_data"
    },
    {
     "data": {
      "text/html": [
       "<div>\n",
       "<style scoped>\n",
       "    .dataframe tbody tr th:only-of-type {\n",
       "        vertical-align: middle;\n",
       "    }\n",
       "\n",
       "    .dataframe tbody tr th {\n",
       "        vertical-align: top;\n",
       "    }\n",
       "\n",
       "    .dataframe thead th {\n",
       "        text-align: right;\n",
       "    }\n",
       "</style>\n",
       "<table border=\"1\" class=\"dataframe\">\n",
       "  <thead>\n",
       "    <tr style=\"text-align: right;\">\n",
       "      <th></th>\n",
       "      <th>client_id</th>\n",
       "      <th>sex</th>\n",
       "      <th>birth</th>\n",
       "      <th>id_prod</th>\n",
       "      <th>date</th>\n",
       "      <th>session_id</th>\n",
       "      <th>_merge</th>\n",
       "    </tr>\n",
       "  </thead>\n",
       "  <tbody>\n",
       "    <tr>\n",
       "      <th>0</th>\n",
       "      <td>c_4410</td>\n",
       "      <td>f</td>\n",
       "      <td>1967</td>\n",
       "      <td>0_1316</td>\n",
       "      <td>2021-12-29 09:11:18.860592</td>\n",
       "      <td>s_141762</td>\n",
       "      <td>both</td>\n",
       "    </tr>\n",
       "    <tr>\n",
       "      <th>1</th>\n",
       "      <td>c_4410</td>\n",
       "      <td>f</td>\n",
       "      <td>1967</td>\n",
       "      <td>1_385</td>\n",
       "      <td>2021-03-22 01:40:22.782925</td>\n",
       "      <td>s_9707</td>\n",
       "      <td>both</td>\n",
       "    </tr>\n",
       "    <tr>\n",
       "      <th>2</th>\n",
       "      <td>c_4410</td>\n",
       "      <td>f</td>\n",
       "      <td>1967</td>\n",
       "      <td>1_190</td>\n",
       "      <td>2021-11-12 18:11:43.280574</td>\n",
       "      <td>s_118628</td>\n",
       "      <td>both</td>\n",
       "    </tr>\n",
       "    <tr>\n",
       "      <th>3</th>\n",
       "      <td>c_4410</td>\n",
       "      <td>f</td>\n",
       "      <td>1967</td>\n",
       "      <td>0_1455</td>\n",
       "      <td>2021-03-22 14:29:25.189266</td>\n",
       "      <td>s_9942</td>\n",
       "      <td>both</td>\n",
       "    </tr>\n",
       "    <tr>\n",
       "      <th>4</th>\n",
       "      <td>c_4410</td>\n",
       "      <td>f</td>\n",
       "      <td>1967</td>\n",
       "      <td>1_483</td>\n",
       "      <td>2022-03-13 21:35:55.949042</td>\n",
       "      <td>s_178686</td>\n",
       "      <td>both</td>\n",
       "    </tr>\n",
       "  </tbody>\n",
       "</table>\n",
       "</div>"
      ],
      "text/plain": [
       "  client_id sex  birth id_prod                       date session_id _merge\n",
       "0    c_4410   f   1967  0_1316 2021-12-29 09:11:18.860592   s_141762   both\n",
       "1    c_4410   f   1967   1_385 2021-03-22 01:40:22.782925     s_9707   both\n",
       "2    c_4410   f   1967   1_190 2021-11-12 18:11:43.280574   s_118628   both\n",
       "3    c_4410   f   1967  0_1455 2021-03-22 14:29:25.189266     s_9942   both\n",
       "4    c_4410   f   1967   1_483 2022-03-13 21:35:55.949042   s_178686   both"
      ]
     },
     "metadata": {},
     "output_type": "display_data"
    }
   ],
   "source": [
    "# Outter merge des dataframes customers et transaction\n",
    "custo_trans = pd.merge(customer, transaction, on='client_id', how='outer', indicator=True )\n",
    "display(custo_trans['_merge'].unique())\n",
    "display(custo_trans.shape)\n",
    "display(custo_trans.head())"
   ]
  },
  {
   "cell_type": "markdown",
   "id": "897167aa",
   "metadata": {},
   "source": [
    "**Observation**: \n",
    "Certains 'client_id' sont dans la dataframe 'customer' mais pas dans la dataframe 'transaction', ce qui veut dire que nous avions des clients qui n'ont pas fait de transactions."
   ]
  },
  {
   "cell_type": "markdown",
   "id": "4ebe3d09",
   "metadata": {},
   "source": [
    "#### Produit et transaction"
   ]
  },
  {
   "cell_type": "code",
   "execution_count": 13,
   "id": "540d1ce2",
   "metadata": {},
   "outputs": [
    {
     "data": {
      "text/plain": [
       "['both', 'left_only', 'right_only']\n",
       "Categories (3, object): ['left_only', 'right_only', 'both']"
      ]
     },
     "metadata": {},
     "output_type": "display_data"
    },
    {
     "data": {
      "text/plain": [
       "(679353, 7)"
      ]
     },
     "metadata": {},
     "output_type": "display_data"
    },
    {
     "data": {
      "text/html": [
       "<div>\n",
       "<style scoped>\n",
       "    .dataframe tbody tr th:only-of-type {\n",
       "        vertical-align: middle;\n",
       "    }\n",
       "\n",
       "    .dataframe tbody tr th {\n",
       "        vertical-align: top;\n",
       "    }\n",
       "\n",
       "    .dataframe thead th {\n",
       "        text-align: right;\n",
       "    }\n",
       "</style>\n",
       "<table border=\"1\" class=\"dataframe\">\n",
       "  <thead>\n",
       "    <tr style=\"text-align: right;\">\n",
       "      <th></th>\n",
       "      <th>id_prod</th>\n",
       "      <th>date</th>\n",
       "      <th>session_id</th>\n",
       "      <th>client_id</th>\n",
       "      <th>price</th>\n",
       "      <th>categ</th>\n",
       "      <th>_merge</th>\n",
       "    </tr>\n",
       "  </thead>\n",
       "  <tbody>\n",
       "    <tr>\n",
       "      <th>0</th>\n",
       "      <td>0_1518</td>\n",
       "      <td>2022-05-20 13:21:29.043970</td>\n",
       "      <td>s_211425</td>\n",
       "      <td>c_103</td>\n",
       "      <td>4.18</td>\n",
       "      <td>0</td>\n",
       "      <td>both</td>\n",
       "    </tr>\n",
       "    <tr>\n",
       "      <th>1</th>\n",
       "      <td>0_1518</td>\n",
       "      <td>2021-09-26 12:37:29.780414</td>\n",
       "      <td>s_95811</td>\n",
       "      <td>c_6197</td>\n",
       "      <td>4.18</td>\n",
       "      <td>0</td>\n",
       "      <td>both</td>\n",
       "    </tr>\n",
       "    <tr>\n",
       "      <th>2</th>\n",
       "      <td>0_1518</td>\n",
       "      <td>2021-05-06 17:14:43.117440</td>\n",
       "      <td>s_30782</td>\n",
       "      <td>c_682</td>\n",
       "      <td>4.18</td>\n",
       "      <td>0</td>\n",
       "      <td>both</td>\n",
       "    </tr>\n",
       "    <tr>\n",
       "      <th>3</th>\n",
       "      <td>0_1518</td>\n",
       "      <td>2022-03-16 18:57:10.420103</td>\n",
       "      <td>s_180057</td>\n",
       "      <td>c_5932</td>\n",
       "      <td>4.18</td>\n",
       "      <td>0</td>\n",
       "      <td>both</td>\n",
       "    </tr>\n",
       "    <tr>\n",
       "      <th>4</th>\n",
       "      <td>0_1518</td>\n",
       "      <td>2022-11-12 18:58:10.574853</td>\n",
       "      <td>s_296584</td>\n",
       "      <td>c_7217</td>\n",
       "      <td>4.18</td>\n",
       "      <td>0</td>\n",
       "      <td>both</td>\n",
       "    </tr>\n",
       "  </tbody>\n",
       "</table>\n",
       "</div>"
      ],
      "text/plain": [
       "  id_prod                       date session_id client_id  price categ _merge\n",
       "0  0_1518 2022-05-20 13:21:29.043970   s_211425     c_103   4.18     0   both\n",
       "1  0_1518 2021-09-26 12:37:29.780414    s_95811    c_6197   4.18     0   both\n",
       "2  0_1518 2021-05-06 17:14:43.117440    s_30782     c_682   4.18     0   both\n",
       "3  0_1518 2022-03-16 18:57:10.420103   s_180057    c_5932   4.18     0   both\n",
       "4  0_1518 2022-11-12 18:58:10.574853   s_296584    c_7217   4.18     0   both"
      ]
     },
     "metadata": {},
     "output_type": "display_data"
    }
   ],
   "source": [
    "# Outter merge des dataframe produit et transaction\n",
    "product_trans = pd.merge(transaction, product, on='id_prod', how='outer', indicator=True )\n",
    "display(product_trans['_merge'].unique())\n",
    "display(product_trans.shape)\n",
    "display(product_trans.head())"
   ]
  },
  {
   "cell_type": "code",
   "execution_count": 14,
   "id": "b2762081",
   "metadata": {},
   "outputs": [
    {
     "data": {
      "text/plain": [
       "array(['0_2245'], dtype=object)"
      ]
     },
     "metadata": {},
     "output_type": "display_data"
    },
    {
     "data": {
      "text/plain": [
       "(221, 7)"
      ]
     },
     "metadata": {},
     "output_type": "display_data"
    },
    {
     "data": {
      "text/html": [
       "<div>\n",
       "<style scoped>\n",
       "    .dataframe tbody tr th:only-of-type {\n",
       "        vertical-align: middle;\n",
       "    }\n",
       "\n",
       "    .dataframe tbody tr th {\n",
       "        vertical-align: top;\n",
       "    }\n",
       "\n",
       "    .dataframe thead th {\n",
       "        text-align: right;\n",
       "    }\n",
       "</style>\n",
       "<table border=\"1\" class=\"dataframe\">\n",
       "  <thead>\n",
       "    <tr style=\"text-align: right;\">\n",
       "      <th></th>\n",
       "      <th>id_prod</th>\n",
       "      <th>date</th>\n",
       "      <th>session_id</th>\n",
       "      <th>client_id</th>\n",
       "      <th>price</th>\n",
       "      <th>categ</th>\n",
       "      <th>_merge</th>\n",
       "    </tr>\n",
       "  </thead>\n",
       "  <tbody>\n",
       "    <tr>\n",
       "      <th>542560</th>\n",
       "      <td>0_2245</td>\n",
       "      <td>2022-09-23 07:22:38.636773</td>\n",
       "      <td>s_272266</td>\n",
       "      <td>c_4746</td>\n",
       "      <td>NaN</td>\n",
       "      <td>NaN</td>\n",
       "      <td>left_only</td>\n",
       "    </tr>\n",
       "    <tr>\n",
       "      <th>542561</th>\n",
       "      <td>0_2245</td>\n",
       "      <td>2022-07-23 09:24:14.133889</td>\n",
       "      <td>s_242482</td>\n",
       "      <td>c_6713</td>\n",
       "      <td>NaN</td>\n",
       "      <td>NaN</td>\n",
       "      <td>left_only</td>\n",
       "    </tr>\n",
       "    <tr>\n",
       "      <th>542562</th>\n",
       "      <td>0_2245</td>\n",
       "      <td>2022-12-03 03:26:35.696673</td>\n",
       "      <td>s_306338</td>\n",
       "      <td>c_5108</td>\n",
       "      <td>NaN</td>\n",
       "      <td>NaN</td>\n",
       "      <td>left_only</td>\n",
       "    </tr>\n",
       "    <tr>\n",
       "      <th>542563</th>\n",
       "      <td>0_2245</td>\n",
       "      <td>2021-08-16 11:33:25.481411</td>\n",
       "      <td>s_76493</td>\n",
       "      <td>c_1391</td>\n",
       "      <td>NaN</td>\n",
       "      <td>NaN</td>\n",
       "      <td>left_only</td>\n",
       "    </tr>\n",
       "    <tr>\n",
       "      <th>542564</th>\n",
       "      <td>0_2245</td>\n",
       "      <td>2022-07-16 05:53:01.627491</td>\n",
       "      <td>s_239078</td>\n",
       "      <td>c_7954</td>\n",
       "      <td>NaN</td>\n",
       "      <td>NaN</td>\n",
       "      <td>left_only</td>\n",
       "    </tr>\n",
       "    <tr>\n",
       "      <th>...</th>\n",
       "      <td>...</td>\n",
       "      <td>...</td>\n",
       "      <td>...</td>\n",
       "      <td>...</td>\n",
       "      <td>...</td>\n",
       "      <td>...</td>\n",
       "      <td>...</td>\n",
       "    </tr>\n",
       "    <tr>\n",
       "      <th>542776</th>\n",
       "      <td>0_2245</td>\n",
       "      <td>2021-08-25 09:06:03.504061</td>\n",
       "      <td>s_80395</td>\n",
       "      <td>c_131</td>\n",
       "      <td>NaN</td>\n",
       "      <td>NaN</td>\n",
       "      <td>left_only</td>\n",
       "    </tr>\n",
       "    <tr>\n",
       "      <th>542777</th>\n",
       "      <td>0_2245</td>\n",
       "      <td>2022-03-06 19:59:19.462288</td>\n",
       "      <td>s_175311</td>\n",
       "      <td>c_4167</td>\n",
       "      <td>NaN</td>\n",
       "      <td>NaN</td>\n",
       "      <td>left_only</td>\n",
       "    </tr>\n",
       "    <tr>\n",
       "      <th>542778</th>\n",
       "      <td>0_2245</td>\n",
       "      <td>2022-05-16 11:35:20.319501</td>\n",
       "      <td>s_209381</td>\n",
       "      <td>c_4453</td>\n",
       "      <td>NaN</td>\n",
       "      <td>NaN</td>\n",
       "      <td>left_only</td>\n",
       "    </tr>\n",
       "    <tr>\n",
       "      <th>542779</th>\n",
       "      <td>0_2245</td>\n",
       "      <td>2022-02-11 09:05:43.952857</td>\n",
       "      <td>s_163405</td>\n",
       "      <td>c_1098</td>\n",
       "      <td>NaN</td>\n",
       "      <td>NaN</td>\n",
       "      <td>left_only</td>\n",
       "    </tr>\n",
       "    <tr>\n",
       "      <th>542780</th>\n",
       "      <td>0_2245</td>\n",
       "      <td>2021-12-14 22:34:54.589921</td>\n",
       "      <td>s_134446</td>\n",
       "      <td>c_4854</td>\n",
       "      <td>NaN</td>\n",
       "      <td>NaN</td>\n",
       "      <td>left_only</td>\n",
       "    </tr>\n",
       "  </tbody>\n",
       "</table>\n",
       "<p>221 rows × 7 columns</p>\n",
       "</div>"
      ],
      "text/plain": [
       "       id_prod                       date session_id client_id  price categ  \\\n",
       "542560  0_2245 2022-09-23 07:22:38.636773   s_272266    c_4746    NaN   NaN   \n",
       "542561  0_2245 2022-07-23 09:24:14.133889   s_242482    c_6713    NaN   NaN   \n",
       "542562  0_2245 2022-12-03 03:26:35.696673   s_306338    c_5108    NaN   NaN   \n",
       "542563  0_2245 2021-08-16 11:33:25.481411    s_76493    c_1391    NaN   NaN   \n",
       "542564  0_2245 2022-07-16 05:53:01.627491   s_239078    c_7954    NaN   NaN   \n",
       "...        ...                        ...        ...       ...    ...   ...   \n",
       "542776  0_2245 2021-08-25 09:06:03.504061    s_80395     c_131    NaN   NaN   \n",
       "542777  0_2245 2022-03-06 19:59:19.462288   s_175311    c_4167    NaN   NaN   \n",
       "542778  0_2245 2022-05-16 11:35:20.319501   s_209381    c_4453    NaN   NaN   \n",
       "542779  0_2245 2022-02-11 09:05:43.952857   s_163405    c_1098    NaN   NaN   \n",
       "542780  0_2245 2021-12-14 22:34:54.589921   s_134446    c_4854    NaN   NaN   \n",
       "\n",
       "           _merge  \n",
       "542560  left_only  \n",
       "542561  left_only  \n",
       "542562  left_only  \n",
       "542563  left_only  \n",
       "542564  left_only  \n",
       "...           ...  \n",
       "542776  left_only  \n",
       "542777  left_only  \n",
       "542778  left_only  \n",
       "542779  left_only  \n",
       "542780  left_only  \n",
       "\n",
       "[221 rows x 7 columns]"
      ]
     },
     "metadata": {},
     "output_type": "display_data"
    }
   ],
   "source": [
    "# Produit qui sont dans dataframe'transaction' mais pas dans dataframe 'produit'\n",
    "left_only = product_trans.loc[product_trans['_merge']=='left_only']\n",
    "display(left_only['id_prod'].unique())\n",
    "display(left_only.shape)\n",
    "display(left_only)"
   ]
  },
  {
   "cell_type": "markdown",
   "id": "6d4df391",
   "metadata": {},
   "source": [
    "**Observation**: \n",
    "Le produit '0_2245' a été vendu mais il n'est pas présent dans la dataframe 'produit', donc nous n'avions pas les information sur ce produit, il faudrait trouver ces information car il a été vendu 221 fois ce qui pourrait avoir une grande influence sur l'analyse."
   ]
  },
  {
   "cell_type": "code",
   "execution_count": 15,
   "id": "fe066e01",
   "metadata": {},
   "outputs": [
    {
     "data": {
      "text/html": [
       "<div>\n",
       "<style scoped>\n",
       "    .dataframe tbody tr th:only-of-type {\n",
       "        vertical-align: middle;\n",
       "    }\n",
       "\n",
       "    .dataframe tbody tr th {\n",
       "        vertical-align: top;\n",
       "    }\n",
       "\n",
       "    .dataframe thead th {\n",
       "        text-align: right;\n",
       "    }\n",
       "</style>\n",
       "<table border=\"1\" class=\"dataframe\">\n",
       "  <thead>\n",
       "    <tr style=\"text-align: right;\">\n",
       "      <th></th>\n",
       "      <th>id_prod</th>\n",
       "      <th>price</th>\n",
       "      <th>categ</th>\n",
       "    </tr>\n",
       "  </thead>\n",
       "  <tbody>\n",
       "    <tr>\n",
       "      <th>0</th>\n",
       "      <td>0_1421</td>\n",
       "      <td>19.990000</td>\n",
       "      <td>0</td>\n",
       "    </tr>\n",
       "    <tr>\n",
       "      <th>1</th>\n",
       "      <td>0_1368</td>\n",
       "      <td>5.130000</td>\n",
       "      <td>0</td>\n",
       "    </tr>\n",
       "    <tr>\n",
       "      <th>2</th>\n",
       "      <td>0_731</td>\n",
       "      <td>17.990000</td>\n",
       "      <td>0</td>\n",
       "    </tr>\n",
       "    <tr>\n",
       "      <th>3</th>\n",
       "      <td>1_587</td>\n",
       "      <td>4.990000</td>\n",
       "      <td>1</td>\n",
       "    </tr>\n",
       "    <tr>\n",
       "      <th>4</th>\n",
       "      <td>0_1507</td>\n",
       "      <td>3.990000</td>\n",
       "      <td>0</td>\n",
       "    </tr>\n",
       "    <tr>\n",
       "      <th>...</th>\n",
       "      <td>...</td>\n",
       "      <td>...</td>\n",
       "      <td>...</td>\n",
       "    </tr>\n",
       "    <tr>\n",
       "      <th>3282</th>\n",
       "      <td>0_146</td>\n",
       "      <td>17.140000</td>\n",
       "      <td>0</td>\n",
       "    </tr>\n",
       "    <tr>\n",
       "      <th>3283</th>\n",
       "      <td>0_802</td>\n",
       "      <td>11.220000</td>\n",
       "      <td>0</td>\n",
       "    </tr>\n",
       "    <tr>\n",
       "      <th>3284</th>\n",
       "      <td>1_140</td>\n",
       "      <td>38.560000</td>\n",
       "      <td>1</td>\n",
       "    </tr>\n",
       "    <tr>\n",
       "      <th>3285</th>\n",
       "      <td>0_1920</td>\n",
       "      <td>25.160000</td>\n",
       "      <td>0</td>\n",
       "    </tr>\n",
       "    <tr>\n",
       "      <th>3286</th>\n",
       "      <td>0_2245</td>\n",
       "      <td>11.732795</td>\n",
       "      <td>0</td>\n",
       "    </tr>\n",
       "  </tbody>\n",
       "</table>\n",
       "<p>3287 rows × 3 columns</p>\n",
       "</div>"
      ],
      "text/plain": [
       "     id_prod      price categ\n",
       "0     0_1421  19.990000     0\n",
       "1     0_1368   5.130000     0\n",
       "2      0_731  17.990000     0\n",
       "3      1_587   4.990000     1\n",
       "4     0_1507   3.990000     0\n",
       "...      ...        ...   ...\n",
       "3282   0_146  17.140000     0\n",
       "3283   0_802  11.220000     0\n",
       "3284   1_140  38.560000     1\n",
       "3285  0_1920  25.160000     0\n",
       "3286  0_2245  11.732795     0\n",
       "\n",
       "[3287 rows x 3 columns]"
      ]
     },
     "execution_count": 15,
     "metadata": {},
     "output_type": "execute_result"
    }
   ],
   "source": [
    "# Calculer le prix moyen des articles de catégorie '0'\n",
    "product_cat_0 = product.loc[product['categ']=='0']\n",
    "moyen_price_cat_0 = product_cat_0['price'].mean()\n",
    "# Ajouter une nouvelle ligne à la dataframe 'product' contenant les information du produit '0_2245'\n",
    "product.loc[-1] = ['0_2245',moyen_price_cat_0,'0']\n",
    "product.reset_index(drop=True)"
   ]
  },
  {
   "cell_type": "code",
   "execution_count": 16,
   "id": "a97f0e2b",
   "metadata": {},
   "outputs": [
    {
     "data": {
      "text/html": [
       "<div>\n",
       "<style scoped>\n",
       "    .dataframe tbody tr th:only-of-type {\n",
       "        vertical-align: middle;\n",
       "    }\n",
       "\n",
       "    .dataframe tbody tr th {\n",
       "        vertical-align: top;\n",
       "    }\n",
       "\n",
       "    .dataframe thead th {\n",
       "        text-align: right;\n",
       "    }\n",
       "</style>\n",
       "<table border=\"1\" class=\"dataframe\">\n",
       "  <thead>\n",
       "    <tr style=\"text-align: right;\">\n",
       "      <th></th>\n",
       "      <th>id_prod</th>\n",
       "      <th>date</th>\n",
       "      <th>session_id</th>\n",
       "      <th>client_id</th>\n",
       "      <th>price</th>\n",
       "      <th>categ</th>\n",
       "      <th>_merge</th>\n",
       "    </tr>\n",
       "  </thead>\n",
       "  <tbody>\n",
       "    <tr>\n",
       "      <th>679332</th>\n",
       "      <td>0_1016</td>\n",
       "      <td>NaT</td>\n",
       "      <td>NaN</td>\n",
       "      <td>NaN</td>\n",
       "      <td>35.06</td>\n",
       "      <td>0</td>\n",
       "      <td>right_only</td>\n",
       "    </tr>\n",
       "    <tr>\n",
       "      <th>679333</th>\n",
       "      <td>0_1780</td>\n",
       "      <td>NaT</td>\n",
       "      <td>NaN</td>\n",
       "      <td>NaN</td>\n",
       "      <td>1.67</td>\n",
       "      <td>0</td>\n",
       "      <td>right_only</td>\n",
       "    </tr>\n",
       "    <tr>\n",
       "      <th>679334</th>\n",
       "      <td>0_1062</td>\n",
       "      <td>NaT</td>\n",
       "      <td>NaN</td>\n",
       "      <td>NaN</td>\n",
       "      <td>20.08</td>\n",
       "      <td>0</td>\n",
       "      <td>right_only</td>\n",
       "    </tr>\n",
       "    <tr>\n",
       "      <th>679335</th>\n",
       "      <td>0_1119</td>\n",
       "      <td>NaT</td>\n",
       "      <td>NaN</td>\n",
       "      <td>NaN</td>\n",
       "      <td>2.99</td>\n",
       "      <td>0</td>\n",
       "      <td>right_only</td>\n",
       "    </tr>\n",
       "    <tr>\n",
       "      <th>679336</th>\n",
       "      <td>0_1014</td>\n",
       "      <td>NaT</td>\n",
       "      <td>NaN</td>\n",
       "      <td>NaN</td>\n",
       "      <td>1.15</td>\n",
       "      <td>0</td>\n",
       "      <td>right_only</td>\n",
       "    </tr>\n",
       "    <tr>\n",
       "      <th>679337</th>\n",
       "      <td>1_0</td>\n",
       "      <td>NaT</td>\n",
       "      <td>NaN</td>\n",
       "      <td>NaN</td>\n",
       "      <td>31.82</td>\n",
       "      <td>1</td>\n",
       "      <td>right_only</td>\n",
       "    </tr>\n",
       "    <tr>\n",
       "      <th>679338</th>\n",
       "      <td>0_1318</td>\n",
       "      <td>NaT</td>\n",
       "      <td>NaN</td>\n",
       "      <td>NaN</td>\n",
       "      <td>20.92</td>\n",
       "      <td>0</td>\n",
       "      <td>right_only</td>\n",
       "    </tr>\n",
       "    <tr>\n",
       "      <th>679339</th>\n",
       "      <td>0_1800</td>\n",
       "      <td>NaT</td>\n",
       "      <td>NaN</td>\n",
       "      <td>NaN</td>\n",
       "      <td>22.05</td>\n",
       "      <td>0</td>\n",
       "      <td>right_only</td>\n",
       "    </tr>\n",
       "    <tr>\n",
       "      <th>679340</th>\n",
       "      <td>0_1645</td>\n",
       "      <td>NaT</td>\n",
       "      <td>NaN</td>\n",
       "      <td>NaN</td>\n",
       "      <td>2.99</td>\n",
       "      <td>0</td>\n",
       "      <td>right_only</td>\n",
       "    </tr>\n",
       "    <tr>\n",
       "      <th>679341</th>\n",
       "      <td>0_322</td>\n",
       "      <td>NaT</td>\n",
       "      <td>NaN</td>\n",
       "      <td>NaN</td>\n",
       "      <td>2.99</td>\n",
       "      <td>0</td>\n",
       "      <td>right_only</td>\n",
       "    </tr>\n",
       "    <tr>\n",
       "      <th>679342</th>\n",
       "      <td>0_1620</td>\n",
       "      <td>NaT</td>\n",
       "      <td>NaN</td>\n",
       "      <td>NaN</td>\n",
       "      <td>0.80</td>\n",
       "      <td>0</td>\n",
       "      <td>right_only</td>\n",
       "    </tr>\n",
       "    <tr>\n",
       "      <th>679343</th>\n",
       "      <td>0_1025</td>\n",
       "      <td>NaT</td>\n",
       "      <td>NaN</td>\n",
       "      <td>NaN</td>\n",
       "      <td>24.99</td>\n",
       "      <td>0</td>\n",
       "      <td>right_only</td>\n",
       "    </tr>\n",
       "    <tr>\n",
       "      <th>679344</th>\n",
       "      <td>2_87</td>\n",
       "      <td>NaT</td>\n",
       "      <td>NaN</td>\n",
       "      <td>NaN</td>\n",
       "      <td>220.99</td>\n",
       "      <td>2</td>\n",
       "      <td>right_only</td>\n",
       "    </tr>\n",
       "    <tr>\n",
       "      <th>679345</th>\n",
       "      <td>1_394</td>\n",
       "      <td>NaT</td>\n",
       "      <td>NaN</td>\n",
       "      <td>NaN</td>\n",
       "      <td>39.73</td>\n",
       "      <td>1</td>\n",
       "      <td>right_only</td>\n",
       "    </tr>\n",
       "    <tr>\n",
       "      <th>679346</th>\n",
       "      <td>2_72</td>\n",
       "      <td>NaT</td>\n",
       "      <td>NaN</td>\n",
       "      <td>NaN</td>\n",
       "      <td>141.32</td>\n",
       "      <td>2</td>\n",
       "      <td>right_only</td>\n",
       "    </tr>\n",
       "    <tr>\n",
       "      <th>679347</th>\n",
       "      <td>0_310</td>\n",
       "      <td>NaT</td>\n",
       "      <td>NaN</td>\n",
       "      <td>NaN</td>\n",
       "      <td>1.94</td>\n",
       "      <td>0</td>\n",
       "      <td>right_only</td>\n",
       "    </tr>\n",
       "    <tr>\n",
       "      <th>679348</th>\n",
       "      <td>0_1624</td>\n",
       "      <td>NaT</td>\n",
       "      <td>NaN</td>\n",
       "      <td>NaN</td>\n",
       "      <td>24.50</td>\n",
       "      <td>0</td>\n",
       "      <td>right_only</td>\n",
       "    </tr>\n",
       "    <tr>\n",
       "      <th>679349</th>\n",
       "      <td>2_86</td>\n",
       "      <td>NaT</td>\n",
       "      <td>NaN</td>\n",
       "      <td>NaN</td>\n",
       "      <td>132.36</td>\n",
       "      <td>2</td>\n",
       "      <td>right_only</td>\n",
       "    </tr>\n",
       "    <tr>\n",
       "      <th>679350</th>\n",
       "      <td>0_299</td>\n",
       "      <td>NaT</td>\n",
       "      <td>NaN</td>\n",
       "      <td>NaN</td>\n",
       "      <td>22.99</td>\n",
       "      <td>0</td>\n",
       "      <td>right_only</td>\n",
       "    </tr>\n",
       "    <tr>\n",
       "      <th>679351</th>\n",
       "      <td>0_510</td>\n",
       "      <td>NaT</td>\n",
       "      <td>NaN</td>\n",
       "      <td>NaN</td>\n",
       "      <td>23.66</td>\n",
       "      <td>0</td>\n",
       "      <td>right_only</td>\n",
       "    </tr>\n",
       "    <tr>\n",
       "      <th>679352</th>\n",
       "      <td>0_2308</td>\n",
       "      <td>NaT</td>\n",
       "      <td>NaN</td>\n",
       "      <td>NaN</td>\n",
       "      <td>20.28</td>\n",
       "      <td>0</td>\n",
       "      <td>right_only</td>\n",
       "    </tr>\n",
       "  </tbody>\n",
       "</table>\n",
       "</div>"
      ],
      "text/plain": [
       "       id_prod date session_id client_id   price categ      _merge\n",
       "679332  0_1016  NaT        NaN       NaN   35.06     0  right_only\n",
       "679333  0_1780  NaT        NaN       NaN    1.67     0  right_only\n",
       "679334  0_1062  NaT        NaN       NaN   20.08     0  right_only\n",
       "679335  0_1119  NaT        NaN       NaN    2.99     0  right_only\n",
       "679336  0_1014  NaT        NaN       NaN    1.15     0  right_only\n",
       "679337     1_0  NaT        NaN       NaN   31.82     1  right_only\n",
       "679338  0_1318  NaT        NaN       NaN   20.92     0  right_only\n",
       "679339  0_1800  NaT        NaN       NaN   22.05     0  right_only\n",
       "679340  0_1645  NaT        NaN       NaN    2.99     0  right_only\n",
       "679341   0_322  NaT        NaN       NaN    2.99     0  right_only\n",
       "679342  0_1620  NaT        NaN       NaN    0.80     0  right_only\n",
       "679343  0_1025  NaT        NaN       NaN   24.99     0  right_only\n",
       "679344    2_87  NaT        NaN       NaN  220.99     2  right_only\n",
       "679345   1_394  NaT        NaN       NaN   39.73     1  right_only\n",
       "679346    2_72  NaT        NaN       NaN  141.32     2  right_only\n",
       "679347   0_310  NaT        NaN       NaN    1.94     0  right_only\n",
       "679348  0_1624  NaT        NaN       NaN   24.50     0  right_only\n",
       "679349    2_86  NaT        NaN       NaN  132.36     2  right_only\n",
       "679350   0_299  NaT        NaN       NaN   22.99     0  right_only\n",
       "679351   0_510  NaT        NaN       NaN   23.66     0  right_only\n",
       "679352  0_2308  NaT        NaN       NaN   20.28     0  right_only"
      ]
     },
     "metadata": {},
     "output_type": "display_data"
    },
    {
     "data": {
      "text/plain": [
       "(21, 7)"
      ]
     },
     "metadata": {},
     "output_type": "display_data"
    }
   ],
   "source": [
    "# Produit qui sont dans dataframe'produit' mais pas dans dataframe 'transaction'\n",
    "right_only = product_trans.loc[product_trans['_merge']=='right_only']\n",
    "display(right_only)\n",
    "display(right_only.shape)"
   ]
  },
  {
   "cell_type": "markdown",
   "id": "f08113eb",
   "metadata": {},
   "source": [
    "**Observervation**: \n",
    "Nous avons 21 produits qui n'ont pas été vendus, avec des prix très variables. Ce serait judicieux de faire une promotion sur ces produits."
   ]
  },
  {
   "cell_type": "markdown",
   "id": "7291a9ae",
   "metadata": {},
   "source": [
    "### Jointure interne des trois dataframes"
   ]
  },
  {
   "cell_type": "code",
   "execution_count": 18,
   "id": "7675b14c",
   "metadata": {},
   "outputs": [
    {
     "data": {
      "text/html": [
       "<div>\n",
       "<style scoped>\n",
       "    .dataframe tbody tr th:only-of-type {\n",
       "        vertical-align: middle;\n",
       "    }\n",
       "\n",
       "    .dataframe tbody tr th {\n",
       "        vertical-align: top;\n",
       "    }\n",
       "\n",
       "    .dataframe thead th {\n",
       "        text-align: right;\n",
       "    }\n",
       "</style>\n",
       "<table border=\"1\" class=\"dataframe\">\n",
       "  <thead>\n",
       "    <tr style=\"text-align: right;\">\n",
       "      <th></th>\n",
       "      <th>client_id</th>\n",
       "      <th>sex</th>\n",
       "      <th>birth</th>\n",
       "      <th>id_prod</th>\n",
       "      <th>date</th>\n",
       "      <th>session_id</th>\n",
       "      <th>price</th>\n",
       "      <th>categ</th>\n",
       "    </tr>\n",
       "  </thead>\n",
       "  <tbody>\n",
       "    <tr>\n",
       "      <th>0</th>\n",
       "      <td>c_4410</td>\n",
       "      <td>f</td>\n",
       "      <td>1967</td>\n",
       "      <td>0_1316</td>\n",
       "      <td>2021-12-29 09:11:18.860592</td>\n",
       "      <td>s_141762</td>\n",
       "      <td>7.2</td>\n",
       "      <td>0</td>\n",
       "    </tr>\n",
       "    <tr>\n",
       "      <th>1</th>\n",
       "      <td>c_4410</td>\n",
       "      <td>f</td>\n",
       "      <td>1967</td>\n",
       "      <td>0_1316</td>\n",
       "      <td>2022-03-29 09:11:18.860592</td>\n",
       "      <td>s_186233</td>\n",
       "      <td>7.2</td>\n",
       "      <td>0</td>\n",
       "    </tr>\n",
       "    <tr>\n",
       "      <th>2</th>\n",
       "      <td>c_4410</td>\n",
       "      <td>f</td>\n",
       "      <td>1967</td>\n",
       "      <td>0_1316</td>\n",
       "      <td>2022-05-29 09:11:18.860592</td>\n",
       "      <td>s_215758</td>\n",
       "      <td>7.2</td>\n",
       "      <td>0</td>\n",
       "    </tr>\n",
       "    <tr>\n",
       "      <th>3</th>\n",
       "      <td>c_3654</td>\n",
       "      <td>f</td>\n",
       "      <td>1978</td>\n",
       "      <td>0_1316</td>\n",
       "      <td>2021-11-26 03:51:34.068872</td>\n",
       "      <td>s_125143</td>\n",
       "      <td>7.2</td>\n",
       "      <td>0</td>\n",
       "    </tr>\n",
       "    <tr>\n",
       "      <th>4</th>\n",
       "      <td>c_3654</td>\n",
       "      <td>f</td>\n",
       "      <td>1978</td>\n",
       "      <td>0_1316</td>\n",
       "      <td>2022-08-26 03:51:34.068872</td>\n",
       "      <td>s_258546</td>\n",
       "      <td>7.2</td>\n",
       "      <td>0</td>\n",
       "    </tr>\n",
       "  </tbody>\n",
       "</table>\n",
       "</div>"
      ],
      "text/plain": [
       "  client_id sex  birth id_prod                       date session_id  price  \\\n",
       "0    c_4410   f   1967  0_1316 2021-12-29 09:11:18.860592   s_141762    7.2   \n",
       "1    c_4410   f   1967  0_1316 2022-03-29 09:11:18.860592   s_186233    7.2   \n",
       "2    c_4410   f   1967  0_1316 2022-05-29 09:11:18.860592   s_215758    7.2   \n",
       "3    c_3654   f   1978  0_1316 2021-11-26 03:51:34.068872   s_125143    7.2   \n",
       "4    c_3654   f   1978  0_1316 2022-08-26 03:51:34.068872   s_258546    7.2   \n",
       "\n",
       "  categ  \n",
       "0     0  \n",
       "1     0  \n",
       "2     0  \n",
       "3     0  \n",
       "4     0  "
      ]
     },
     "execution_count": 18,
     "metadata": {},
     "output_type": "execute_result"
    }
   ],
   "source": [
    "# Inner merge des dataframes 'customer', 'transaction' et product\n",
    "df = pd.merge( (pd.merge(customer, transaction, on='client_id')), product, on='id_prod' )\n",
    "df.head()"
   ]
  },
  {
   "cell_type": "code",
   "execution_count": 19,
   "id": "67604fdb",
   "metadata": {},
   "outputs": [],
   "source": [
    "# Création de la variable 'age'\n",
    "\n",
    "df['age']= (pd.DatetimeIndex(df['date']).year)-df['birth']"
   ]
  },
  {
   "cell_type": "code",
   "execution_count": 20,
   "id": "4cfa61d7",
   "metadata": {},
   "outputs": [
    {
     "data": {
      "text/plain": [
       "client_id       8600\n",
       "sex                2\n",
       "birth             76\n",
       "id_prod         3266\n",
       "date          679332\n",
       "session_id    342315\n",
       "price           1443\n",
       "categ              3\n",
       "age               78\n",
       "dtype: int64"
      ]
     },
     "metadata": {},
     "output_type": "display_data"
    },
    {
     "data": {
      "text/plain": [
       "client_id             object\n",
       "sex                   object\n",
       "birth                  int64\n",
       "id_prod               object\n",
       "date          datetime64[ns]\n",
       "session_id            object\n",
       "price                float64\n",
       "categ                 object\n",
       "age                    int64\n",
       "dtype: object"
      ]
     },
     "metadata": {},
     "output_type": "display_data"
    },
    {
     "data": {
      "text/html": [
       "<div>\n",
       "<style scoped>\n",
       "    .dataframe tbody tr th:only-of-type {\n",
       "        vertical-align: middle;\n",
       "    }\n",
       "\n",
       "    .dataframe tbody tr th {\n",
       "        vertical-align: top;\n",
       "    }\n",
       "\n",
       "    .dataframe thead th {\n",
       "        text-align: right;\n",
       "    }\n",
       "</style>\n",
       "<table border=\"1\" class=\"dataframe\">\n",
       "  <thead>\n",
       "    <tr style=\"text-align: right;\">\n",
       "      <th></th>\n",
       "      <th>client_id</th>\n",
       "      <th>sex</th>\n",
       "      <th>birth</th>\n",
       "      <th>id_prod</th>\n",
       "      <th>date</th>\n",
       "      <th>session_id</th>\n",
       "      <th>price</th>\n",
       "      <th>categ</th>\n",
       "      <th>age</th>\n",
       "    </tr>\n",
       "  </thead>\n",
       "  <tbody>\n",
       "    <tr>\n",
       "      <th>0</th>\n",
       "      <td>c_4410</td>\n",
       "      <td>f</td>\n",
       "      <td>1967</td>\n",
       "      <td>0_1316</td>\n",
       "      <td>2021-12-29 09:11:18.860592</td>\n",
       "      <td>s_141762</td>\n",
       "      <td>7.20</td>\n",
       "      <td>0</td>\n",
       "      <td>54</td>\n",
       "    </tr>\n",
       "    <tr>\n",
       "      <th>1</th>\n",
       "      <td>c_4410</td>\n",
       "      <td>f</td>\n",
       "      <td>1967</td>\n",
       "      <td>0_1316</td>\n",
       "      <td>2022-03-29 09:11:18.860592</td>\n",
       "      <td>s_186233</td>\n",
       "      <td>7.20</td>\n",
       "      <td>0</td>\n",
       "      <td>55</td>\n",
       "    </tr>\n",
       "    <tr>\n",
       "      <th>2</th>\n",
       "      <td>c_4410</td>\n",
       "      <td>f</td>\n",
       "      <td>1967</td>\n",
       "      <td>0_1316</td>\n",
       "      <td>2022-05-29 09:11:18.860592</td>\n",
       "      <td>s_215758</td>\n",
       "      <td>7.20</td>\n",
       "      <td>0</td>\n",
       "      <td>55</td>\n",
       "    </tr>\n",
       "    <tr>\n",
       "      <th>3</th>\n",
       "      <td>c_3654</td>\n",
       "      <td>f</td>\n",
       "      <td>1978</td>\n",
       "      <td>0_1316</td>\n",
       "      <td>2021-11-26 03:51:34.068872</td>\n",
       "      <td>s_125143</td>\n",
       "      <td>7.20</td>\n",
       "      <td>0</td>\n",
       "      <td>43</td>\n",
       "    </tr>\n",
       "    <tr>\n",
       "      <th>4</th>\n",
       "      <td>c_3654</td>\n",
       "      <td>f</td>\n",
       "      <td>1978</td>\n",
       "      <td>0_1316</td>\n",
       "      <td>2022-08-26 03:51:34.068872</td>\n",
       "      <td>s_258546</td>\n",
       "      <td>7.20</td>\n",
       "      <td>0</td>\n",
       "      <td>44</td>\n",
       "    </tr>\n",
       "    <tr>\n",
       "      <th>...</th>\n",
       "      <td>...</td>\n",
       "      <td>...</td>\n",
       "      <td>...</td>\n",
       "      <td>...</td>\n",
       "      <td>...</td>\n",
       "      <td>...</td>\n",
       "      <td>...</td>\n",
       "      <td>...</td>\n",
       "      <td>...</td>\n",
       "    </tr>\n",
       "    <tr>\n",
       "      <th>679327</th>\n",
       "      <td>c_8138</td>\n",
       "      <td>f</td>\n",
       "      <td>1984</td>\n",
       "      <td>0_394</td>\n",
       "      <td>2021-11-09 09:02:38.299240</td>\n",
       "      <td>s_116986</td>\n",
       "      <td>2.14</td>\n",
       "      <td>0</td>\n",
       "      <td>37</td>\n",
       "    </tr>\n",
       "    <tr>\n",
       "      <th>679328</th>\n",
       "      <td>c_8138</td>\n",
       "      <td>f</td>\n",
       "      <td>1984</td>\n",
       "      <td>0_394</td>\n",
       "      <td>2022-08-09 09:02:38.299240</td>\n",
       "      <td>s_250653</td>\n",
       "      <td>2.14</td>\n",
       "      <td>0</td>\n",
       "      <td>38</td>\n",
       "    </tr>\n",
       "    <tr>\n",
       "      <th>679329</th>\n",
       "      <td>c_8138</td>\n",
       "      <td>f</td>\n",
       "      <td>1984</td>\n",
       "      <td>0_394</td>\n",
       "      <td>2022-03-09 09:02:38.299240</td>\n",
       "      <td>s_176587</td>\n",
       "      <td>2.14</td>\n",
       "      <td>0</td>\n",
       "      <td>38</td>\n",
       "    </tr>\n",
       "    <tr>\n",
       "      <th>679330</th>\n",
       "      <td>c_8327</td>\n",
       "      <td>m</td>\n",
       "      <td>1972</td>\n",
       "      <td>0_394</td>\n",
       "      <td>2022-06-28 22:44:11.200205</td>\n",
       "      <td>s_230707</td>\n",
       "      <td>2.14</td>\n",
       "      <td>0</td>\n",
       "      <td>50</td>\n",
       "    </tr>\n",
       "    <tr>\n",
       "      <th>679331</th>\n",
       "      <td>c_8327</td>\n",
       "      <td>m</td>\n",
       "      <td>1972</td>\n",
       "      <td>0_394</td>\n",
       "      <td>2021-12-28 22:44:11.200205</td>\n",
       "      <td>s_141516</td>\n",
       "      <td>2.14</td>\n",
       "      <td>0</td>\n",
       "      <td>49</td>\n",
       "    </tr>\n",
       "  </tbody>\n",
       "</table>\n",
       "<p>679332 rows × 9 columns</p>\n",
       "</div>"
      ],
      "text/plain": [
       "       client_id sex  birth id_prod                       date session_id  \\\n",
       "0         c_4410   f   1967  0_1316 2021-12-29 09:11:18.860592   s_141762   \n",
       "1         c_4410   f   1967  0_1316 2022-03-29 09:11:18.860592   s_186233   \n",
       "2         c_4410   f   1967  0_1316 2022-05-29 09:11:18.860592   s_215758   \n",
       "3         c_3654   f   1978  0_1316 2021-11-26 03:51:34.068872   s_125143   \n",
       "4         c_3654   f   1978  0_1316 2022-08-26 03:51:34.068872   s_258546   \n",
       "...          ...  ..    ...     ...                        ...        ...   \n",
       "679327    c_8138   f   1984   0_394 2021-11-09 09:02:38.299240   s_116986   \n",
       "679328    c_8138   f   1984   0_394 2022-08-09 09:02:38.299240   s_250653   \n",
       "679329    c_8138   f   1984   0_394 2022-03-09 09:02:38.299240   s_176587   \n",
       "679330    c_8327   m   1972   0_394 2022-06-28 22:44:11.200205   s_230707   \n",
       "679331    c_8327   m   1972   0_394 2021-12-28 22:44:11.200205   s_141516   \n",
       "\n",
       "        price categ  age  \n",
       "0        7.20     0   54  \n",
       "1        7.20     0   55  \n",
       "2        7.20     0   55  \n",
       "3        7.20     0   43  \n",
       "4        7.20     0   44  \n",
       "...       ...   ...  ...  \n",
       "679327   2.14     0   37  \n",
       "679328   2.14     0   38  \n",
       "679329   2.14     0   38  \n",
       "679330   2.14     0   50  \n",
       "679331   2.14     0   49  \n",
       "\n",
       "[679332 rows x 9 columns]"
      ]
     },
     "metadata": {},
     "output_type": "display_data"
    }
   ],
   "source": [
    "df.to_csv('df.csv')\n",
    "display(df.nunique())\n",
    "display(df.dtypes)\n",
    "display(df)"
   ]
  },
  {
   "cell_type": "markdown",
   "id": "33ebf819",
   "metadata": {},
   "source": [
    "<div style=\"border: 1px solid RGB(100,100,100);\" >\n",
    "    <h3 style=\"margin: auto; padding: 20px; color: RGB(51,165,182); \"> <a id=\"F\"> 2 - Analyse des indicateurs de ventes</a></h3>\n",
    "</div>"
   ]
  },
  {
   "cell_type": "code",
   "execution_count": 21,
   "id": "c19ad1a0",
   "metadata": {},
   "outputs": [],
   "source": [
    "# Déclarer fonction pour les differents tests\n",
    "\n",
    "# Tester si un échantillon suis une distribution normale.\n",
    "#(Les tests de Normalité seront faits en utilisant un test de Kolmogoroc-Smirnov, à cause de la grande taille des échantillons)\n",
    "def TestNormalité(p_value):\n",
    "    if p_value > 0.05: \n",
    "         print(f\" Nous pouvons estimer que l'échantillon a une distribution Normale\")\n",
    "    else :\n",
    "         print(f\" Nous pouvons estimer que l'échantillon ne suit pas une distribution Normale\")\n",
    "\n",
    "# Tester la variance entre échantillon\n",
    "#(Les test de variance seront faits en utilisant un test de Bartlett )\n",
    "def TestVariance(p_value):\n",
    "    if p_value > 0.05: \n",
    "        print(f\" La variance est égale entre les deux échantillons\")\n",
    "    else :\n",
    "        print(f\" La variance des échantillons n'est pas égale\")\n",
    "\n",
    "# Interprétation du p-value\n",
    "def TestStat(p_value):\n",
    "    if p_value > 0.05: \n",
    "        print(f\" L'hypothèse null (H0) peut être acceptée\")\n",
    "    else :\n",
    "        print(f\" L'hypothèse null (H0) est rejetée\")"
   ]
  },
  {
   "cell_type": "markdown",
   "id": "c646c045",
   "metadata": {},
   "source": [
    "### Indicateurs et graphiques sur le CA"
   ]
  },
  {
   "cell_type": "code",
   "execution_count": 22,
   "id": "4b4b67dc",
   "metadata": {},
   "outputs": [
    {
     "data": {
      "text/plain": [
       "11856321.627612649"
      ]
     },
     "metadata": {},
     "output_type": "display_data"
    }
   ],
   "source": [
    "# CA total\n",
    "ca_total = df['price'].sum()\n",
    "display(ca_total)"
   ]
  },
  {
   "cell_type": "code",
   "execution_count": 52,
   "id": "5d46578d",
   "metadata": {},
   "outputs": [
    {
     "data": {
      "image/png": "[encoded data removed]",
      "text/plain": [
       "<Figure size 2160x720 with 1 Axes>"
      ]
     },
     "metadata": {
      "needs_background": "light"
     },
     "output_type": "display_data"
    }
   ],
   "source": [
    "# Indicateur du CA par session\n",
    "df_session = df.groupby('session_id',as_index=False).agg( client_id=('client_id','min'),\n",
    "                                                         genre=('sex','min'),\n",
    "                                                         age=('age','min'),\n",
    "                                                         date_transaction=('date','min'),\n",
    "                                                         ca=('price','sum') )\n",
    "plt.figure(figsize=(30,10))\n",
    "sns.histplot(data=df_session['ca'],bins=100)\n",
    "mean = df_session['ca'].mean()\n",
    "plt.axvline(x=mean, color='red')\n",
    "plt.text(mean, 8000, 'mean', rotation=90, color='red')\n",
    "median=df_session['ca'].median()\n",
    "plt.axvline(x=median, color='green')\n",
    "plt.text(median, 8000, 'median', rotation=90, color='green')\n",
    "plt.xlabel('CA par session')\n",
    "plt.ylabel('Nombre')\n",
    "plt.show()"
   ]
  },
  {
   "cell_type": "code",
   "execution_count": 56,
   "id": "fec0546b",
   "metadata": {},
   "outputs": [
    {
     "data": {
      "image/png": "[encoded data removed]",
      "text/plain": [
       "<Figure size 432x288 with 1 Axes>"
      ]
     },
     "metadata": {
      "needs_background": "light"
     },
     "output_type": "display_data"
    }
   ],
   "source": [
    "# Répartition du CA par session sous forme de boxplot\n",
    "df_session.boxplot('ca')\n",
    "plt.title('Répartion du CA des session')\n",
    "plt.xlabel('Sessions')\n",
    "plt.ylabel('CA')\n",
    "\n",
    "plt.show()"
   ]
  },
  {
   "cell_type": "code",
   "execution_count": 66,
   "id": "9589561e",
   "metadata": {},
   "outputs": [
    {
     "data": {
      "image/png": "[encoded data removed]",
      "text/plain": [
       "<Figure size 720x360 with 1 Axes>"
      ]
     },
     "metadata": {
      "needs_background": "light"
     },
     "output_type": "display_data"
    }
   ],
   "source": [
    "# Indicateur du CA par client\n",
    "df_ca_client = df_session.groupby('client_id', as_index=False)['ca'].sum()\n",
    "plt.figure(figsize=(10,5))\n",
    "sns.boxplot(data=df_ca_client)\n",
    "plt.xlabel('Client')\n",
    "plt.ylabel('Dépenses totales')\n",
    "plt.title( 'Répartition des dépenses totales des clients')\n",
    "plt.show()"
   ]
  },
  {
   "cell_type": "markdown",
   "id": "a247e94d",
   "metadata": {},
   "source": [
    "**Observation**: \n",
    "Nous observons qu'il y a 4 outliers, qui dépensent beaucoup plus que la majorité des autres clients. Ce pourrait être des clients professionnels, qui ne reflètent donc pas le comportement d'un client lambda."
   ]
  },
  {
   "cell_type": "code",
   "execution_count": 71,
   "id": "7971305b",
   "metadata": {},
   "outputs": [],
   "source": [
    "# Filtrage des 4 outliers\n",
    "outliers = df_ca_client[df_ca_client['ca']>50000]\n",
    "client_id_outliers = outliers['client_id']"
   ]
  },
  {
   "cell_type": "code",
   "execution_count": 72,
   "id": "a77a8e5d",
   "metadata": {},
   "outputs": [
    {
     "data": {
      "text/plain": [
       "677     c_1609\n",
       "2724    c_3454\n",
       "4388    c_4958\n",
       "6337    c_6714\n",
       "Name: client_id, dtype: object"
      ]
     },
     "execution_count": 72,
     "metadata": {},
     "output_type": "execute_result"
    }
   ],
   "source": [
    "client_id_outliers"
   ]
  },
  {
   "cell_type": "code",
   "execution_count": 75,
   "id": "29dc89b6",
   "metadata": {},
   "outputs": [
    {
     "data": {
      "image/png": "[encoded data removed]",
      "text/plain": [
       "<Figure size 720x360 with 1 Axes>"
      ]
     },
     "metadata": {
      "needs_background": "light"
     },
     "output_type": "display_data"
    }
   ],
   "source": [
    "# Indicateur du CA par références\n",
    "df_ca_product = df.groupby('id_prod', as_index=False)['price'].sum()\n",
    "\n",
    "plt.figure(figsize=(10,5))\n",
    "sns.histplot(data=df_ca_product['price'],bins=100)\n",
    "mean = df_ca_product['price'].mean()\n",
    "plt.axvline(x=mean, color='red')\n",
    "plt.text(mean, 1850, 'mean', rotation=90, color='red')\n",
    "median=df_ca_product['price'].median()\n",
    "plt.axvline(x=median, color='green')\n",
    "plt.text(median, 1850, 'median', rotation=90, color='green')\n",
    "plt.title('Histogramme du CA total par référence')\n",
    "plt.xlabel('CA total')\n",
    "plt.ylabel('Nombre')\n",
    "plt.show()"
   ]
  },
  {
   "cell_type": "code",
   "execution_count": 76,
   "id": "76bce1fc",
   "metadata": {},
   "outputs": [
    {
     "data": {
      "image/png": "[encoded data removed]",
      "text/plain": [
       "<Figure size 360x576 with 1 Axes>"
      ]
     },
     "metadata": {
      "needs_background": "light"
     },
     "output_type": "display_data"
    }
   ],
   "source": [
    "# Répartition du CA total par référence\n",
    "plt.figure(figsize=(5,8))\n",
    "sns.boxplot(data=df_ca_product['price'])\n",
    "plt.title('Répartion du CA total par référence')\n",
    "plt.xlabel('Références')\n",
    "plt.ylabel('CA total')\n",
    "plt.show()"
   ]
  },
  {
   "cell_type": "markdown",
   "id": "8302cbdd",
   "metadata": {},
   "source": [
    "### Indicateurs et graphiques sur la variable 'age'"
   ]
  },
  {
   "cell_type": "code",
   "execution_count": 77,
   "id": "c5014964",
   "metadata": {},
   "outputs": [
    {
     "data": {
      "image/png": "[encoded data removed]",
      "text/plain": [
       "<Figure size 720x360 with 1 Axes>"
      ]
     },
     "metadata": {
      "needs_background": "light"
     },
     "output_type": "display_data"
    }
   ],
   "source": [
    "# Indicateur de 'age' par client\n",
    "age_size = (df_session.groupby(['client_id'], as_index=False)['age'].median())\n",
    "age_size\n",
    "plt.figure(figsize=(10,5))\n",
    "sns.histplot(data=age_size['age'])\n",
    "plt.xlabel('Age')\n",
    "plt.ylabel('Nombre de clients')\n",
    "plt.title('Répartition des ages des clients')\n",
    "plt.show()"
   ]
  },
  {
   "cell_type": "markdown",
   "id": "04d70b4f",
   "metadata": {},
   "source": [
    "### CA dans le temps"
   ]
  },
  {
   "cell_type": "code",
   "execution_count": 78,
   "id": "c7f5ae5e",
   "metadata": {},
   "outputs": [
    {
     "data": {
      "text/plain": [
       "<AxesSubplot:>"
      ]
     },
     "metadata": {},
     "output_type": "display_data"
    },
    {
     "data": {
      "text/plain": [
       "count      730.000000\n",
       "mean     16241.536476\n",
       "std       1848.128952\n",
       "min       8076.040000\n",
       "25%      15477.805000\n",
       "50%      16229.022795\n",
       "75%      17186.843897\n",
       "max      20499.412795\n",
       "Name: price, dtype: float64"
      ]
     },
     "metadata": {},
     "output_type": "display_data"
    },
    {
     "data": {
      "text/html": [
       "<div>\n",
       "<style scoped>\n",
       "    .dataframe tbody tr th:only-of-type {\n",
       "        vertical-align: middle;\n",
       "    }\n",
       "\n",
       "    .dataframe tbody tr th {\n",
       "        vertical-align: top;\n",
       "    }\n",
       "\n",
       "    .dataframe thead th {\n",
       "        text-align: right;\n",
       "    }\n",
       "</style>\n",
       "<table border=\"1\" class=\"dataframe\">\n",
       "  <thead>\n",
       "    <tr style=\"text-align: right;\">\n",
       "      <th></th>\n",
       "      <th>date</th>\n",
       "      <th>price</th>\n",
       "    </tr>\n",
       "  </thead>\n",
       "  <tbody>\n",
       "    <tr>\n",
       "      <th>0</th>\n",
       "      <td>2021-03-01</td>\n",
       "      <td>16576.952795</td>\n",
       "    </tr>\n",
       "    <tr>\n",
       "      <th>1</th>\n",
       "      <td>2021-03-02</td>\n",
       "      <td>15498.182795</td>\n",
       "    </tr>\n",
       "    <tr>\n",
       "      <th>2</th>\n",
       "      <td>2021-03-03</td>\n",
       "      <td>15198.690000</td>\n",
       "    </tr>\n",
       "    <tr>\n",
       "      <th>3</th>\n",
       "      <td>2021-03-04</td>\n",
       "      <td>15196.070000</td>\n",
       "    </tr>\n",
       "    <tr>\n",
       "      <th>4</th>\n",
       "      <td>2021-03-05</td>\n",
       "      <td>17471.370000</td>\n",
       "    </tr>\n",
       "    <tr>\n",
       "      <th>...</th>\n",
       "      <td>...</td>\n",
       "      <td>...</td>\n",
       "    </tr>\n",
       "    <tr>\n",
       "      <th>725</th>\n",
       "      <td>2023-02-24</td>\n",
       "      <td>15207.890000</td>\n",
       "    </tr>\n",
       "    <tr>\n",
       "      <th>726</th>\n",
       "      <td>2023-02-25</td>\n",
       "      <td>15761.250000</td>\n",
       "    </tr>\n",
       "    <tr>\n",
       "      <th>727</th>\n",
       "      <td>2023-02-26</td>\n",
       "      <td>16304.720000</td>\n",
       "    </tr>\n",
       "    <tr>\n",
       "      <th>728</th>\n",
       "      <td>2023-02-27</td>\n",
       "      <td>19170.810000</td>\n",
       "    </tr>\n",
       "    <tr>\n",
       "      <th>729</th>\n",
       "      <td>2023-02-28</td>\n",
       "      <td>18105.150000</td>\n",
       "    </tr>\n",
       "  </tbody>\n",
       "</table>\n",
       "<p>730 rows × 2 columns</p>\n",
       "</div>"
      ],
      "text/plain": [
       "          date         price\n",
       "0   2021-03-01  16576.952795\n",
       "1   2021-03-02  15498.182795\n",
       "2   2021-03-03  15198.690000\n",
       "3   2021-03-04  15196.070000\n",
       "4   2021-03-05  17471.370000\n",
       "..         ...           ...\n",
       "725 2023-02-24  15207.890000\n",
       "726 2023-02-25  15761.250000\n",
       "727 2023-02-26  16304.720000\n",
       "728 2023-02-27  19170.810000\n",
       "729 2023-02-28  18105.150000\n",
       "\n",
       "[730 rows x 2 columns]"
      ]
     },
     "metadata": {},
     "output_type": "display_data"
    },
    {
     "data": {
      "image/png": "[encoded data removed]",
      "text/plain": [
       "<Figure size 432x288 with 1 Axes>"
      ]
     },
     "metadata": {
      "needs_background": "light"
     },
     "output_type": "display_data"
    }
   ],
   "source": [
    "# CA journalier\n",
    "ca_date = df.resample('D',on='date')['price'].sum().reset_index()\n",
    "display(ca_date['price'].hist())\n",
    "display(ca_date['price'].describe())\n",
    "display(ca_date)"
   ]
  },
  {
   "cell_type": "code",
   "execution_count": 79,
   "id": "93339e15",
   "metadata": {},
   "outputs": [
    {
     "data": {
      "image/png": "[encoded data removed]",
      "text/plain": [
       "<Figure size 720x360 with 1 Axes>"
      ]
     },
     "metadata": {
      "needs_background": "light"
     },
     "output_type": "display_data"
    }
   ],
   "source": [
    "# Graphique montrant l'évolution du CA\n",
    "plt.figure(figsize=(10,5))\n",
    "\n",
    "ax = sns.lineplot(x=ca_date.date, y=ca_date.price)\n",
    "\n",
    "ax.set_xlabel(\"Date\", fontsize = 15)\n",
    "ax.set_ylabel(\"CA\", fontsize = 15)\n",
    "ax.grid(b=True, which='major', color='black', linewidth=0.1)\n",
    "ax.grid(b=True, which='minor', color='black', linewidth=0.075)\n",
    "plt.title(\"Evolution du CA\",fontsize=20)\n",
    "plt.show()"
   ]
  },
  {
   "cell_type": "markdown",
   "id": "cac27db1",
   "metadata": {},
   "source": [
    "**Observation**: \n",
    "Nous observons une fluctuation journalière du CA et nous observons une chute du CA vers octobre 2021 et une période élevée du CA en février/ mars 2022. "
   ]
  },
  {
   "cell_type": "markdown",
   "id": "40101c8b",
   "metadata": {},
   "source": [
    "### Décomposition en moyenne mobile du CA"
   ]
  },
  {
   "cell_type": "code",
   "execution_count": 80,
   "id": "90d3da53",
   "metadata": {},
   "outputs": [
    {
     "data": {
      "image/png": "[encoded data removed]",
      "text/plain": [
       "<Figure size 2160x1080 with 1 Axes>"
      ]
     },
     "metadata": {
      "needs_background": "light"
     },
     "output_type": "display_data"
    }
   ],
   "source": [
    "ca_date['week_rolling_avg']= ca_date.price.rolling(7,center=True).mean()\n",
    "ca_date['month_rolling_avg']= ca_date.price.rolling(30,center=True).mean()\n",
    "\n",
    "date = ca_date['date']\n",
    "ca = ca_date['price']\n",
    "rolling_avg_week = ca_date['week_rolling_avg']\n",
    "rolling_avg_month= ca_date['month_rolling_avg']\n",
    "\n",
    "plt.figure(figsize=(30,15))\n",
    "plt.plot(date, ca, label='CA')\n",
    "plt.plot(date, rolling_avg_week, color='red', label='moyenne mobile semaine')\n",
    "plt.plot(date, rolling_avg_month, color='green', label='moyenne mobile mois')\n",
    "plt.legend()\n",
    "\n",
    "plt.title(\"Evolution du CA\",fontsize=30)\n",
    "plt.xlabel(\"Date\", fontsize = 20)\n",
    "plt.ylabel(\"CA\", fontsize = 20)\n",
    "plt.grid()\n",
    "plt.show()"
   ]
  },
  {
   "cell_type": "markdown",
   "id": "f05eb101",
   "metadata": {},
   "source": [
    "### Exploration de la chute : suppression de la periode de chute"
   ]
  },
  {
   "cell_type": "code",
   "execution_count": 81,
   "id": "cfb6459d",
   "metadata": {},
   "outputs": [
    {
     "data": {
      "text/html": [
       "<div>\n",
       "<style scoped>\n",
       "    .dataframe tbody tr th:only-of-type {\n",
       "        vertical-align: middle;\n",
       "    }\n",
       "\n",
       "    .dataframe tbody tr th {\n",
       "        vertical-align: top;\n",
       "    }\n",
       "\n",
       "    .dataframe thead th {\n",
       "        text-align: right;\n",
       "    }\n",
       "</style>\n",
       "<table border=\"1\" class=\"dataframe\">\n",
       "  <thead>\n",
       "    <tr style=\"text-align: right;\">\n",
       "      <th></th>\n",
       "      <th>client_id</th>\n",
       "      <th>sex</th>\n",
       "      <th>birth</th>\n",
       "      <th>id_prod</th>\n",
       "      <th>date</th>\n",
       "      <th>session_id</th>\n",
       "      <th>price</th>\n",
       "      <th>categ</th>\n",
       "      <th>age</th>\n",
       "    </tr>\n",
       "  </thead>\n",
       "  <tbody>\n",
       "    <tr>\n",
       "      <th>13</th>\n",
       "      <td>c_2809</td>\n",
       "      <td>m</td>\n",
       "      <td>1981</td>\n",
       "      <td>0_1316</td>\n",
       "      <td>2021-10-26 22:32:35.603105</td>\n",
       "      <td>s_110587</td>\n",
       "      <td>7.20</td>\n",
       "      <td>0</td>\n",
       "      <td>40</td>\n",
       "    </tr>\n",
       "    <tr>\n",
       "      <th>14</th>\n",
       "      <td>c_1987</td>\n",
       "      <td>f</td>\n",
       "      <td>1972</td>\n",
       "      <td>0_1316</td>\n",
       "      <td>2021-10-16 08:23:19.617907</td>\n",
       "      <td>s_105529</td>\n",
       "      <td>7.20</td>\n",
       "      <td>0</td>\n",
       "      <td>49</td>\n",
       "    </tr>\n",
       "    <tr>\n",
       "      <th>39</th>\n",
       "      <td>c_2993</td>\n",
       "      <td>m</td>\n",
       "      <td>1964</td>\n",
       "      <td>0_1316</td>\n",
       "      <td>2021-10-20 07:52:27.027746</td>\n",
       "      <td>s_107468</td>\n",
       "      <td>7.20</td>\n",
       "      <td>0</td>\n",
       "      <td>57</td>\n",
       "    </tr>\n",
       "    <tr>\n",
       "      <th>51</th>\n",
       "      <td>c_5835</td>\n",
       "      <td>f</td>\n",
       "      <td>1991</td>\n",
       "      <td>0_1316</td>\n",
       "      <td>2021-10-22 23:44:43.991791</td>\n",
       "      <td>s_108696</td>\n",
       "      <td>7.20</td>\n",
       "      <td>0</td>\n",
       "      <td>30</td>\n",
       "    </tr>\n",
       "    <tr>\n",
       "      <th>52</th>\n",
       "      <td>c_6096</td>\n",
       "      <td>f</td>\n",
       "      <td>1966</td>\n",
       "      <td>0_1316</td>\n",
       "      <td>2021-10-26 09:25:30.899125</td>\n",
       "      <td>s_110348</td>\n",
       "      <td>7.20</td>\n",
       "      <td>0</td>\n",
       "      <td>55</td>\n",
       "    </tr>\n",
       "    <tr>\n",
       "      <th>...</th>\n",
       "      <td>...</td>\n",
       "      <td>...</td>\n",
       "      <td>...</td>\n",
       "      <td>...</td>\n",
       "      <td>...</td>\n",
       "      <td>...</td>\n",
       "      <td>...</td>\n",
       "      <td>...</td>\n",
       "      <td>...</td>\n",
       "    </tr>\n",
       "    <tr>\n",
       "      <th>679224</th>\n",
       "      <td>c_4394</td>\n",
       "      <td>f</td>\n",
       "      <td>1978</td>\n",
       "      <td>0_1595</td>\n",
       "      <td>2021-10-03 18:06:24.864280</td>\n",
       "      <td>s_99495</td>\n",
       "      <td>2.99</td>\n",
       "      <td>0</td>\n",
       "      <td>43</td>\n",
       "    </tr>\n",
       "    <tr>\n",
       "      <th>679229</th>\n",
       "      <td>c_2496</td>\n",
       "      <td>m</td>\n",
       "      <td>1958</td>\n",
       "      <td>0_1776</td>\n",
       "      <td>2021-10-04 21:13:09.706161</td>\n",
       "      <td>s_100046</td>\n",
       "      <td>21.16</td>\n",
       "      <td>0</td>\n",
       "      <td>63</td>\n",
       "    </tr>\n",
       "    <tr>\n",
       "      <th>679234</th>\n",
       "      <td>c_6597</td>\n",
       "      <td>f</td>\n",
       "      <td>1974</td>\n",
       "      <td>0_1331</td>\n",
       "      <td>2021-10-08 20:38:43.719048</td>\n",
       "      <td>s_101952</td>\n",
       "      <td>29.99</td>\n",
       "      <td>0</td>\n",
       "      <td>47</td>\n",
       "    </tr>\n",
       "    <tr>\n",
       "      <th>679244</th>\n",
       "      <td>c_8374</td>\n",
       "      <td>m</td>\n",
       "      <td>1963</td>\n",
       "      <td>0_79</td>\n",
       "      <td>2021-10-18 01:34:47.976618</td>\n",
       "      <td>s_106386</td>\n",
       "      <td>24.99</td>\n",
       "      <td>0</td>\n",
       "      <td>58</td>\n",
       "    </tr>\n",
       "    <tr>\n",
       "      <th>679252</th>\n",
       "      <td>c_1892</td>\n",
       "      <td>f</td>\n",
       "      <td>1974</td>\n",
       "      <td>0_73</td>\n",
       "      <td>2021-10-02 13:16:58.880108</td>\n",
       "      <td>s_98924</td>\n",
       "      <td>2.99</td>\n",
       "      <td>0</td>\n",
       "      <td>47</td>\n",
       "    </tr>\n",
       "  </tbody>\n",
       "</table>\n",
       "<p>16259 rows × 9 columns</p>\n",
       "</div>"
      ],
      "text/plain": [
       "       client_id sex  birth id_prod                       date session_id  \\\n",
       "13        c_2809   m   1981  0_1316 2021-10-26 22:32:35.603105   s_110587   \n",
       "14        c_1987   f   1972  0_1316 2021-10-16 08:23:19.617907   s_105529   \n",
       "39        c_2993   m   1964  0_1316 2021-10-20 07:52:27.027746   s_107468   \n",
       "51        c_5835   f   1991  0_1316 2021-10-22 23:44:43.991791   s_108696   \n",
       "52        c_6096   f   1966  0_1316 2021-10-26 09:25:30.899125   s_110348   \n",
       "...          ...  ..    ...     ...                        ...        ...   \n",
       "679224    c_4394   f   1978  0_1595 2021-10-03 18:06:24.864280    s_99495   \n",
       "679229    c_2496   m   1958  0_1776 2021-10-04 21:13:09.706161   s_100046   \n",
       "679234    c_6597   f   1974  0_1331 2021-10-08 20:38:43.719048   s_101952   \n",
       "679244    c_8374   m   1963    0_79 2021-10-18 01:34:47.976618   s_106386   \n",
       "679252    c_1892   f   1974    0_73 2021-10-02 13:16:58.880108    s_98924   \n",
       "\n",
       "        price categ  age  \n",
       "13       7.20     0   40  \n",
       "14       7.20     0   49  \n",
       "39       7.20     0   57  \n",
       "51       7.20     0   30  \n",
       "52       7.20     0   55  \n",
       "...       ...   ...  ...  \n",
       "679224   2.99     0   43  \n",
       "679229  21.16     0   63  \n",
       "679234  29.99     0   47  \n",
       "679244  24.99     0   58  \n",
       "679252   2.99     0   47  \n",
       "\n",
       "[16259 rows x 9 columns]"
      ]
     },
     "execution_count": 81,
     "metadata": {},
     "output_type": "execute_result"
    }
   ],
   "source": [
    "# Déterminer la date des chutes: CA en dessous de 10000 par jour. \n",
    "date_chute = ca_date.loc[ca_date['price']<10000]\n",
    "startDate = date_chute['date'].min()\n",
    "endDate = date_chute['date'].max()\n",
    "# Dataframe des transactions pendant la période de la chute du CA\n",
    "date_chute = (df['date']>=startDate) & (df['date']<=endDate)\n",
    "df_chute = df.loc[date_chute]\n",
    "df_chute "
   ]
  },
  {
   "cell_type": "code",
   "execution_count": 82,
   "id": "d84bcf78",
   "metadata": {},
   "outputs": [
    {
     "data": {
      "text/plain": [
       "categ\n",
       "0    15336\n",
       "2      923\n",
       "dtype: int64"
      ]
     },
     "execution_count": 82,
     "metadata": {},
     "output_type": "execute_result"
    }
   ],
   "source": [
    "# Nombre de ventes par catégorie pendant la chute\n",
    "df_chute.groupby('categ').size()"
   ]
  },
  {
   "cell_type": "markdown",
   "id": "853e25c0",
   "metadata": {},
   "source": [
    "**Observation:**\n",
    "Pendant la chute, il n'y a pas eu de vente de la catégorie '1' "
   ]
  },
  {
   "cell_type": "code",
   "execution_count": 83,
   "id": "17144d51",
   "metadata": {},
   "outputs": [],
   "source": [
    "# Période hors chute retire du dataframe\n",
    "df = df.loc[~date_chute]"
   ]
  },
  {
   "cell_type": "markdown",
   "id": "5894144e",
   "metadata": {},
   "source": [
    "## Analyse des produits vendus\n",
    "### Répartition du CA par référence produit"
   ]
  },
  {
   "cell_type": "code",
   "execution_count": 84,
   "id": "d7f6baf1",
   "metadata": {},
   "outputs": [
    {
     "data": {
      "image/png": "[encoded data removed]",
      "text/plain": [
       "<Figure size 1080x576 with 1 Axes>"
      ]
     },
     "metadata": {
      "needs_background": "light"
     },
     "output_type": "display_data"
    },
    {
     "name": "stdout",
     "output_type": "stream",
     "text": [
      "Indice de gini: 0.7442017750282106\n"
     ]
    }
   ],
   "source": [
    "# Courbe de Lorenz pour voir la répartition du CA par référence\n",
    "ca_produit = df.groupby(['id_prod','categ'],as_index=False)[['price']].sum().sort_values(\"price\", ascending=False)\n",
    "ca = ca_produit['price']\n",
    "\n",
    "n = len(ca)\n",
    "\n",
    "lorenz = np.cumsum(np.sort(ca))/ca.sum()\n",
    "lorenz = np.append([0],lorenz)\n",
    "plt.figure(figsize=(15,8))\n",
    "plt.axes().axis('equal')\n",
    "xaxis  = np.linspace(0-1/n, 1+1/n, n+1)\n",
    "\n",
    "plt.plot(xaxis,lorenz, drawstyle='steps-post')\n",
    "plt.title('Distribution du CA fait par référence')\n",
    "plt.xlabel('Proportion des références')\n",
    "plt.ylabel('Proportion du CA')\n",
    "plt.grid()\n",
    "plt.xticks([0.0,0.1,0.2,0.3,0.4,0.5,0.6,0.7,0.8,0.9,1.0])\n",
    "plt.yticks([0.0,0.1,0.2,0.3,0.4,0.5,0.6,0.7,0.8,0.9,1.0])\n",
    "plt.show()\n",
    "\n",
    "AUC = (lorenz.sum() -lorenz[-1]/2 -lorenz[0]/2)/n \n",
    "S = 0.5 - AUC\n",
    "gini = 2*S\n",
    "print(f\"Indice de gini: {gini}\")"
   ]
  },
  {
   "cell_type": "markdown",
   "id": "9c653185",
   "metadata": {},
   "source": [
    "**Obsevation:**\n",
    "Nous pouvons estimer que 50% des articles font 5% du CA pendant que l'autre 50% font 95% du chiffre d'affaire. Nous observons aussi que 20% des références font 80% du CA, qui montre l'effet Pareto (20 % des causes sont responsables de 80 % des effets). L'indice de gini montre une forte inégalité entre les CA des références. "
   ]
  },
  {
   "cell_type": "markdown",
   "id": "060b74ab",
   "metadata": {},
   "source": [
    "### Les top et les flop de produit par rapport au CA"
   ]
  },
  {
   "cell_type": "code",
   "execution_count": 85,
   "id": "9ba02623",
   "metadata": {},
   "outputs": [
    {
     "name": "stdout",
     "output_type": "stream",
     "text": [
      "Les références qui ont fait le plus de CA\n"
     ]
    },
    {
     "data": {
      "text/html": [
       "<div>\n",
       "<style scoped>\n",
       "    .dataframe tbody tr th:only-of-type {\n",
       "        vertical-align: middle;\n",
       "    }\n",
       "\n",
       "    .dataframe tbody tr th {\n",
       "        vertical-align: top;\n",
       "    }\n",
       "\n",
       "    .dataframe thead th {\n",
       "        text-align: right;\n",
       "    }\n",
       "</style>\n",
       "<table border=\"1\" class=\"dataframe\">\n",
       "  <thead>\n",
       "    <tr style=\"text-align: right;\">\n",
       "      <th></th>\n",
       "      <th>id_prod</th>\n",
       "      <th>categ</th>\n",
       "      <th>price</th>\n",
       "    </tr>\n",
       "  </thead>\n",
       "  <tbody>\n",
       "    <tr>\n",
       "      <th>3095</th>\n",
       "      <td>2_159</td>\n",
       "      <td>2</td>\n",
       "      <td>92703.65</td>\n",
       "    </tr>\n",
       "    <tr>\n",
       "      <th>3069</th>\n",
       "      <td>2_135</td>\n",
       "      <td>2</td>\n",
       "      <td>67817.17</td>\n",
       "    </tr>\n",
       "    <tr>\n",
       "      <th>3044</th>\n",
       "      <td>2_112</td>\n",
       "      <td>2</td>\n",
       "      <td>63245.52</td>\n",
       "    </tr>\n",
       "    <tr>\n",
       "      <th>3033</th>\n",
       "      <td>2_102</td>\n",
       "      <td>2</td>\n",
       "      <td>59317.42</td>\n",
       "    </tr>\n",
       "    <tr>\n",
       "      <th>3151</th>\n",
       "      <td>2_209</td>\n",
       "      <td>2</td>\n",
       "      <td>55712.04</td>\n",
       "    </tr>\n",
       "    <tr>\n",
       "      <th>2618</th>\n",
       "      <td>1_395</td>\n",
       "      <td>1</td>\n",
       "      <td>54356.25</td>\n",
       "    </tr>\n",
       "    <tr>\n",
       "      <th>2590</th>\n",
       "      <td>1_369</td>\n",
       "      <td>1</td>\n",
       "      <td>54025.48</td>\n",
       "    </tr>\n",
       "    <tr>\n",
       "      <th>3042</th>\n",
       "      <td>2_110</td>\n",
       "      <td>2</td>\n",
       "      <td>52227.75</td>\n",
       "    </tr>\n",
       "    <tr>\n",
       "      <th>2640</th>\n",
       "      <td>1_414</td>\n",
       "      <td>1</td>\n",
       "      <td>51949.40</td>\n",
       "    </tr>\n",
       "    <tr>\n",
       "      <th>3200</th>\n",
       "      <td>2_39</td>\n",
       "      <td>2</td>\n",
       "      <td>51553.11</td>\n",
       "    </tr>\n",
       "  </tbody>\n",
       "</table>\n",
       "</div>"
      ],
      "text/plain": [
       "     id_prod categ     price\n",
       "3095   2_159     2  92703.65\n",
       "3069   2_135     2  67817.17\n",
       "3044   2_112     2  63245.52\n",
       "3033   2_102     2  59317.42\n",
       "3151   2_209     2  55712.04\n",
       "2618   1_395     1  54356.25\n",
       "2590   1_369     1  54025.48\n",
       "3042   2_110     2  52227.75\n",
       "2640   1_414     1  51949.40\n",
       "3200    2_39     2  51553.11"
      ]
     },
     "metadata": {},
     "output_type": "display_data"
    },
    {
     "name": "stdout",
     "output_type": "stream",
     "text": [
      "Les références qui ont fait le moins de CA\n"
     ]
    },
    {
     "data": {
      "text/html": [
       "<div>\n",
       "<style scoped>\n",
       "    .dataframe tbody tr th:only-of-type {\n",
       "        vertical-align: middle;\n",
       "    }\n",
       "\n",
       "    .dataframe tbody tr th {\n",
       "        vertical-align: top;\n",
       "    }\n",
       "\n",
       "    .dataframe thead th {\n",
       "        text-align: right;\n",
       "    }\n",
       "</style>\n",
       "<table border=\"1\" class=\"dataframe\">\n",
       "  <thead>\n",
       "    <tr style=\"text-align: right;\">\n",
       "      <th></th>\n",
       "      <th>id_prod</th>\n",
       "      <th>categ</th>\n",
       "      <th>price</th>\n",
       "    </tr>\n",
       "  </thead>\n",
       "  <tbody>\n",
       "    <tr>\n",
       "      <th>1543</th>\n",
       "      <td>0_324</td>\n",
       "      <td>0</td>\n",
       "      <td>2.36</td>\n",
       "    </tr>\n",
       "    <tr>\n",
       "      <th>801</th>\n",
       "      <td>0_1728</td>\n",
       "      <td>0</td>\n",
       "      <td>2.27</td>\n",
       "    </tr>\n",
       "    <tr>\n",
       "      <th>664</th>\n",
       "      <td>0_1601</td>\n",
       "      <td>0</td>\n",
       "      <td>1.99</td>\n",
       "    </tr>\n",
       "    <tr>\n",
       "      <th>1783</th>\n",
       "      <td>0_541</td>\n",
       "      <td>0</td>\n",
       "      <td>1.99</td>\n",
       "    </tr>\n",
       "    <tr>\n",
       "      <th>2078</th>\n",
       "      <td>0_807</td>\n",
       "      <td>0</td>\n",
       "      <td>1.99</td>\n",
       "    </tr>\n",
       "    <tr>\n",
       "      <th>1896</th>\n",
       "      <td>0_643</td>\n",
       "      <td>0</td>\n",
       "      <td>1.98</td>\n",
       "    </tr>\n",
       "    <tr>\n",
       "      <th>718</th>\n",
       "      <td>0_1653</td>\n",
       "      <td>0</td>\n",
       "      <td>1.98</td>\n",
       "    </tr>\n",
       "    <tr>\n",
       "      <th>313</th>\n",
       "      <td>0_1284</td>\n",
       "      <td>0</td>\n",
       "      <td>1.38</td>\n",
       "    </tr>\n",
       "    <tr>\n",
       "      <th>2178</th>\n",
       "      <td>0_898</td>\n",
       "      <td>0</td>\n",
       "      <td>1.27</td>\n",
       "    </tr>\n",
       "    <tr>\n",
       "      <th>594</th>\n",
       "      <td>0_1539</td>\n",
       "      <td>0</td>\n",
       "      <td>0.99</td>\n",
       "    </tr>\n",
       "  </tbody>\n",
       "</table>\n",
       "</div>"
      ],
      "text/plain": [
       "     id_prod categ  price\n",
       "1543   0_324     0   2.36\n",
       "801   0_1728     0   2.27\n",
       "664   0_1601     0   1.99\n",
       "1783   0_541     0   1.99\n",
       "2078   0_807     0   1.99\n",
       "1896   0_643     0   1.98\n",
       "718   0_1653     0   1.98\n",
       "313   0_1284     0   1.38\n",
       "2178   0_898     0   1.27\n",
       "594   0_1539     0   0.99"
      ]
     },
     "metadata": {},
     "output_type": "display_data"
    }
   ],
   "source": [
    "# Les id_product qui ont fait le plus et le moins de chiffre d'affaire sur les 2 dernières années\n",
    "ca_produit = df.groupby(['id_prod','categ'],as_index=False)[['price']].sum().sort_values(\"price\", ascending=False)\n",
    "# Top CA\n",
    "print('Les références qui ont fait le plus de CA')\n",
    "display(ca_produit.head(10))\n",
    "# Flop CA\n",
    "print('Les références qui ont fait le moins de CA')\n",
    "display(ca_produit.tail(10))"
   ]
  },
  {
   "cell_type": "markdown",
   "id": "7dab1e40",
   "metadata": {},
   "source": [
    "**Observation**: \n",
    "Les tops viennent des catégories '2' et '1' tandis que tous les 10 flops viennent de la catégorie '0'"
   ]
  },
  {
   "cell_type": "markdown",
   "id": "74f0651d",
   "metadata": {},
   "source": [
    "### Répartition des nombres de ventes par référence produit"
   ]
  },
  {
   "cell_type": "code",
   "execution_count": 86,
   "id": "addc72c8",
   "metadata": {},
   "outputs": [
    {
     "data": {
      "image/png": "[encoded data removed]",
      "text/plain": [
       "<Figure size 720x360 with 1 Axes>"
      ]
     },
     "metadata": {
      "needs_background": "light"
     },
     "output_type": "display_data"
    },
    {
     "name": "stdout",
     "output_type": "stream",
     "text": [
      "Indice de gigi: 0.6946589298251933\n"
     ]
    }
   ],
   "source": [
    "# Courbe de Lorenz pour voir la répartition du CA par référence\n",
    "ventes_produits = df.groupby(['id_prod'],as_index=False).agg(nombre_vente=('session_id','count'),\n",
    "                                                   categ=('categ','min') \n",
    "                                                            ).sort_values('nombre_vente')\n",
    "\n",
    "n_vente = ventes_produits['nombre_vente']\n",
    "\n",
    "n = len(n_vente)\n",
    "\n",
    "lorenz = np.cumsum(np.sort(n_vente))/n_vente.sum()\n",
    "lorenz = np.append([0],lorenz)\n",
    "plt.figure(figsize=(10,5))\n",
    "plt.axes().axis('equal')\n",
    "xaxis  = np.linspace(0-1/n, 1+1/n, n+1)\n",
    "\n",
    "plt.plot(xaxis, lorenz, drawstyle='steps-post')\n",
    "plt.title('Distribution des nombres de ventes faites par référence')\n",
    "plt.xlabel('Proportion cumulée des références')\n",
    "plt.ylabel('Proportion cumulée des ventes')\n",
    "plt.grid()\n",
    "plt.xticks([0.0,0.1,0.2,0.3,0.4,0.5,0.6,0.7,0.8,0.9,1.0])\n",
    "plt.yticks([0.0,0.1,0.2,0.3,0.4,0.5,0.6,0.7,0.8,0.9,1.0])\n",
    "plt.show()\n",
    "\n",
    "AUC = (lorenz.sum() -lorenz[-1]/2 -lorenz[0]/2)/n \n",
    "S = 0.5 - AUC\n",
    "gini = 2*S\n",
    "print(f\"Indice de gigi: {gini}\")"
   ]
  },
  {
   "cell_type": "markdown",
   "id": "3b5edb90",
   "metadata": {},
   "source": [
    "**Obsevation**:\n",
    "Nous pouvons estimer que 50% des articles font 5% des ventes pendant que l'autre 50% font 95% des ventes. Ce qui montre une préfèrence significative pour certains articles. 10% des articles font 50% des ventes. L'indice de gini nous indique une forte inégalité entre les nombres de ventes des références. "
   ]
  },
  {
   "cell_type": "code",
   "execution_count": 87,
   "id": "799cbbe3",
   "metadata": {},
   "outputs": [
    {
     "name": "stdout",
     "output_type": "stream",
     "text": [
      "Les références qui ont fait le plus grand nombre de ventes\n"
     ]
    },
    {
     "data": {
      "text/html": [
       "<div>\n",
       "<style scoped>\n",
       "    .dataframe tbody tr th:only-of-type {\n",
       "        vertical-align: middle;\n",
       "    }\n",
       "\n",
       "    .dataframe tbody tr th {\n",
       "        vertical-align: top;\n",
       "    }\n",
       "\n",
       "    .dataframe thead th {\n",
       "        text-align: right;\n",
       "    }\n",
       "</style>\n",
       "<table border=\"1\" class=\"dataframe\">\n",
       "  <thead>\n",
       "    <tr style=\"text-align: right;\">\n",
       "      <th></th>\n",
       "      <th>id_prod</th>\n",
       "      <th>nombre_vente</th>\n",
       "      <th>categ</th>\n",
       "    </tr>\n",
       "  </thead>\n",
       "  <tbody>\n",
       "    <tr>\n",
       "      <th>2632</th>\n",
       "      <td>1_407</td>\n",
       "      <td>1935</td>\n",
       "      <td>1</td>\n",
       "    </tr>\n",
       "    <tr>\n",
       "      <th>2631</th>\n",
       "      <td>1_406</td>\n",
       "      <td>1939</td>\n",
       "      <td>1</td>\n",
       "    </tr>\n",
       "    <tr>\n",
       "      <th>2639</th>\n",
       "      <td>1_413</td>\n",
       "      <td>1945</td>\n",
       "      <td>1</td>\n",
       "    </tr>\n",
       "    <tr>\n",
       "      <th>2638</th>\n",
       "      <td>1_412</td>\n",
       "      <td>1951</td>\n",
       "      <td>1</td>\n",
       "    </tr>\n",
       "    <tr>\n",
       "      <th>2628</th>\n",
       "      <td>1_403</td>\n",
       "      <td>1960</td>\n",
       "      <td>1</td>\n",
       "    </tr>\n",
       "    <tr>\n",
       "      <th>2652</th>\n",
       "      <td>1_425</td>\n",
       "      <td>2096</td>\n",
       "      <td>1</td>\n",
       "    </tr>\n",
       "    <tr>\n",
       "      <th>2732</th>\n",
       "      <td>1_498</td>\n",
       "      <td>2128</td>\n",
       "      <td>1</td>\n",
       "    </tr>\n",
       "    <tr>\n",
       "      <th>2640</th>\n",
       "      <td>1_414</td>\n",
       "      <td>2180</td>\n",
       "      <td>1</td>\n",
       "    </tr>\n",
       "    <tr>\n",
       "      <th>2643</th>\n",
       "      <td>1_417</td>\n",
       "      <td>2189</td>\n",
       "      <td>1</td>\n",
       "    </tr>\n",
       "    <tr>\n",
       "      <th>2590</th>\n",
       "      <td>1_369</td>\n",
       "      <td>2252</td>\n",
       "      <td>1</td>\n",
       "    </tr>\n",
       "  </tbody>\n",
       "</table>\n",
       "</div>"
      ],
      "text/plain": [
       "     id_prod  nombre_vente categ\n",
       "2632   1_407          1935     1\n",
       "2631   1_406          1939     1\n",
       "2639   1_413          1945     1\n",
       "2638   1_412          1951     1\n",
       "2628   1_403          1960     1\n",
       "2652   1_425          2096     1\n",
       "2732   1_498          2128     1\n",
       "2640   1_414          2180     1\n",
       "2643   1_417          2189     1\n",
       "2590   1_369          2252     1"
      ]
     },
     "metadata": {},
     "output_type": "display_data"
    },
    {
     "name": "stdout",
     "output_type": "stream",
     "text": [
      "Les références qui ont fait le plus faible nombres de ventes\n"
     ]
    },
    {
     "data": {
      "text/html": [
       "<div>\n",
       "<style scoped>\n",
       "    .dataframe tbody tr th:only-of-type {\n",
       "        vertical-align: middle;\n",
       "    }\n",
       "\n",
       "    .dataframe tbody tr th {\n",
       "        vertical-align: top;\n",
       "    }\n",
       "\n",
       "    .dataframe thead th {\n",
       "        text-align: right;\n",
       "    }\n",
       "</style>\n",
       "<table border=\"1\" class=\"dataframe\">\n",
       "  <thead>\n",
       "    <tr style=\"text-align: right;\">\n",
       "      <th></th>\n",
       "      <th>id_prod</th>\n",
       "      <th>nombre_vente</th>\n",
       "      <th>categ</th>\n",
       "    </tr>\n",
       "  </thead>\n",
       "  <tbody>\n",
       "    <tr>\n",
       "      <th>801</th>\n",
       "      <td>0_1728</td>\n",
       "      <td>1</td>\n",
       "      <td>0</td>\n",
       "    </tr>\n",
       "    <tr>\n",
       "      <th>166</th>\n",
       "      <td>0_1151</td>\n",
       "      <td>1</td>\n",
       "      <td>0</td>\n",
       "    </tr>\n",
       "    <tr>\n",
       "      <th>2178</th>\n",
       "      <td>0_898</td>\n",
       "      <td>1</td>\n",
       "      <td>0</td>\n",
       "    </tr>\n",
       "    <tr>\n",
       "      <th>697</th>\n",
       "      <td>0_1633</td>\n",
       "      <td>1</td>\n",
       "      <td>0</td>\n",
       "    </tr>\n",
       "    <tr>\n",
       "      <th>664</th>\n",
       "      <td>0_1601</td>\n",
       "      <td>1</td>\n",
       "      <td>0</td>\n",
       "    </tr>\n",
       "    <tr>\n",
       "      <th>2107</th>\n",
       "      <td>0_833</td>\n",
       "      <td>1</td>\n",
       "      <td>0</td>\n",
       "    </tr>\n",
       "    <tr>\n",
       "      <th>656</th>\n",
       "      <td>0_1595</td>\n",
       "      <td>1</td>\n",
       "      <td>0</td>\n",
       "    </tr>\n",
       "    <tr>\n",
       "      <th>751</th>\n",
       "      <td>0_1683</td>\n",
       "      <td>1</td>\n",
       "      <td>0</td>\n",
       "    </tr>\n",
       "    <tr>\n",
       "      <th>2165</th>\n",
       "      <td>0_886</td>\n",
       "      <td>1</td>\n",
       "      <td>0</td>\n",
       "    </tr>\n",
       "    <tr>\n",
       "      <th>3174</th>\n",
       "      <td>2_23</td>\n",
       "      <td>1</td>\n",
       "      <td>2</td>\n",
       "    </tr>\n",
       "  </tbody>\n",
       "</table>\n",
       "</div>"
      ],
      "text/plain": [
       "     id_prod  nombre_vente categ\n",
       "801   0_1728             1     0\n",
       "166   0_1151             1     0\n",
       "2178   0_898             1     0\n",
       "697   0_1633             1     0\n",
       "664   0_1601             1     0\n",
       "2107   0_833             1     0\n",
       "656   0_1595             1     0\n",
       "751   0_1683             1     0\n",
       "2165   0_886             1     0\n",
       "3174    2_23             1     2"
      ]
     },
     "metadata": {},
     "output_type": "display_data"
    }
   ],
   "source": [
    "# Top en nombre de ventes\n",
    "print('Les références qui ont fait le plus grand nombre de ventes')\n",
    "display(ventes_produits.tail(10))\n",
    "# Flop en nombre de ventes\n",
    "print('Les références qui ont fait le plus faible nombres de ventes')\n",
    "display(ventes_produits.head(10))"
   ]
  },
  {
   "cell_type": "markdown",
   "id": "afa9e0ab",
   "metadata": {},
   "source": [
    "**Observation**:\n",
    "En temps que nombre de ventes, les références tops viennent de la catégorie 1 seulement, tandis que les flops viennent des catégories 0 et 2."
   ]
  },
  {
   "cell_type": "markdown",
   "id": "31866f97",
   "metadata": {},
   "source": [
    "### Répartition des CA des références par catégories"
   ]
  },
  {
   "cell_type": "code",
   "execution_count": 88,
   "id": "cbd71e5f",
   "metadata": {},
   "outputs": [
    {
     "data": {
      "image/png": "[encoded data removed]",
      "text/plain": [
       "<Figure size 360x360 with 1 Axes>"
      ]
     },
     "metadata": {},
     "output_type": "display_data"
    }
   ],
   "source": [
    "# CA par catégories\n",
    "ca_cat = df.groupby('categ')['price'].sum().reset_index()\n",
    "data = ca_cat['price']\n",
    "labels = ca_cat['categ']\n",
    "\n",
    "plt.figure(figsize=(5,5))\n",
    "plt.pie(data, autopct='%.0f%%', \n",
    "        textprops= {'fontsize':20}, \n",
    "        wedgeprops={'edgecolor':\"k\",'linewidth':1,'linestyle':'solid'})\n",
    "\n",
    "plt.title(\"Distibution du CA par catégories\")\n",
    "plt.legend( loc=1, labels=labels)\n",
    "plt.show()"
   ]
  },
  {
   "cell_type": "code",
   "execution_count": 89,
   "id": "26d7e027",
   "metadata": {},
   "outputs": [
    {
     "data": {
      "image/png": "[encoded data removed]",
      "text/plain": [
       "<Figure size 864x576 with 1 Axes>"
      ]
     },
     "metadata": {
      "needs_background": "light"
     },
     "output_type": "display_data"
    }
   ],
   "source": [
    "# Distribution des ca des références par catégories\n",
    "df_ca_cat = df.groupby('id_prod', as_index=False).agg( ca=('price','sum'),\n",
    "                         categ=('categ','min') )\n",
    "\n",
    "\n",
    "X = \"categ\"\n",
    "Y = \"ca\"\n",
    "\n",
    "modalities = df_ca_cat[X].unique()\n",
    "groupes = []\n",
    "\n",
    "for m in modalities:\n",
    "    groupes.append(df_ca_cat[df_ca_cat[X]==m][Y])\n",
    "\n",
    "medianprops = {'color':\"black\"}\n",
    "meanprops = {'marker':'o', 'markeredgecolor':'black',\n",
    "            'markerfacecolor':'firebrick'}\n",
    "\n",
    "plt.figure(figsize=(12,8))\n",
    "plt.boxplot(groupes, labels=modalities, medianprops=medianprops, \n",
    "            vert=False, patch_artist=True, showmeans=True, meanprops=meanprops)\n",
    "plt.title('Répartition du CA des références par catégories')\n",
    "plt.xlabel('CA par références')\n",
    "plt.ylabel('Catégories')\n",
    "plt.xticks([0,10000,20000,30000,40000,50000,60000,70000,80000,90000])\n",
    "plt.grid()\n",
    "plt.show()"
   ]
  },
  {
   "cell_type": "markdown",
   "id": "6d48bad0",
   "metadata": {},
   "source": [
    "**Question**:\n",
    "Est ce qu'il y a une différence de moyenne de CA entre les trois catégories de livres ?\n",
    "\n",
    "**Hypothèse**: \n",
    "* Hypothèse H0: Les trois catégories ont des moyennes égales\n",
    "* H1: Les trois catégories ont des moyennes différentes \n",
    "\n",
    "**Variable**: \n",
    "* Variable d'étude: Catégories, variable qualitative(3 groupes), indépendant \n",
    "* Variable de réponse: CA, variable quantitatives\n",
    "\n",
    "**Test utilisé**: \n",
    "ANOVA, Analyse de la variance (paramétrique) ou Kruskal-Wallis( non-paramétrique)\n",
    "\n",
    "ANOVA conditions: \n",
    "- Mesures sont indépendantes ☑\n",
    "- Echantillons ont des variance égales - A tester\n",
    "- Résidus suivent une distribution normale - A tester\n",
    "- Au moins 20 individus dans le dispositif ☑\n",
    "\n",
    "Conditions non remplies => Kruskal-Wallis"
   ]
  },
  {
   "cell_type": "code",
   "execution_count": 90,
   "id": "85bca6ce",
   "metadata": {},
   "outputs": [],
   "source": [
    "# Création d'échantillons\n",
    "categ_0 = df_ca_cat['ca'].loc[df_ca_cat['categ']=='0'].to_numpy()\n",
    "categ_1 = df_ca_cat['ca'].loc[df_ca_cat['categ']=='1'].to_numpy()\n",
    "categ_2 = df_ca_cat['ca'].loc[df_ca_cat['categ']=='2'].to_numpy()"
   ]
  },
  {
   "cell_type": "code",
   "execution_count": 91,
   "id": "1dd34d40",
   "metadata": {},
   "outputs": [
    {
     "name": "stdout",
     "output_type": "stream",
     "text": [
      "normaltest categ_0: 0.9932731138693414\n",
      "P-value: 0.0\n",
      " Nous pouvons estimer que l'échantillon ne suit pas une distribution Normale\n",
      "normaltest categ_1: 1.0\n",
      "P-value: 0.0\n",
      " Nous pouvons estimer que l'échantillon ne suit pas une distribution Normale\n",
      "normaltest categ_2: 1.0\n",
      "P-value: 0.0\n",
      " Nous pouvons estimer que l'échantillon ne suit pas une distribution Normale\n"
     ]
    }
   ],
   "source": [
    "# Test de Normalite\n",
    "stat, p_value = scipy.stats.kstest(categ_0,'norm')\n",
    "print(f\"normaltest categ_0: {stat}\")\n",
    "print(f\"P-value: {p_value}\")\n",
    "TestNormalité(p_value)\n",
    "\n",
    "stat, p_value = scipy.stats.kstest(categ_1,'norm')\n",
    "print(f\"normaltest categ_1: {stat}\")\n",
    "print(f\"P-value: {p_value}\")\n",
    "TestNormalité(p_value)\n",
    "\n",
    "stat, p_value = scipy.stats.kstest(categ_2,'norm')\n",
    "print(f\"normaltest categ_2: {stat}\")\n",
    "print(f\"P-value: {p_value}\")\n",
    "TestNormalité(p_value)"
   ]
  },
  {
   "cell_type": "code",
   "execution_count": 92,
   "id": "914bcd10",
   "metadata": {},
   "outputs": [
    {
     "name": "stdout",
     "output_type": "stream",
     "text": [
      "Bartlett's test statistic: 2350.6131449036293\n",
      "P-value: 0.0\n",
      " La variance des échantillons n'est pas égale\n"
     ]
    }
   ],
   "source": [
    "# Test de variance\n",
    "stat, p_value = scipy.stats.bartlett(categ_0, categ_1, categ_2)\n",
    "print(f\"Bartlett's test statistic: {stat}\")\n",
    "print(f\"P-value: {p_value}\")\n",
    "TestVariance(p_value)"
   ]
  },
  {
   "cell_type": "code",
   "execution_count": 93,
   "id": "d64d4ae6",
   "metadata": {},
   "outputs": [
    {
     "name": "stdout",
     "output_type": "stream",
     "text": [
      "Kruskal-Wallis Test: 474.96901568361886\n",
      "P-value: 7.274258107968699e-104\n",
      " L'hypothèse null (H0) est rejetée\n"
     ]
    }
   ],
   "source": [
    "# Test de Kruskal-Wallis\n",
    "stat, p_value = scipy.stats.kruskal(categ_0, categ_1, categ_2)\n",
    "print(f\"Kruskal-Wallis Test: {stat}\")\n",
    "print(f\"P-value: {p_value}\")\n",
    "TestStat(p_value)"
   ]
  },
  {
   "cell_type": "markdown",
   "id": "bccbe5dc",
   "metadata": {},
   "source": [
    "**Conclusion**:\n",
    "Les trois catégories ont des moyennes de CA différentes. Cela peut être dû au fait que certains groupes se vendent plus qu'un autre mais aussi parce que les trois groupes n'ont pas la même distribution de prix d'articles. "
   ]
  },
  {
   "cell_type": "markdown",
   "id": "71de0ed7",
   "metadata": {},
   "source": [
    "### Répartition des reférences par catégories"
   ]
  },
  {
   "cell_type": "code",
   "execution_count": 95,
   "id": "7df6a915",
   "metadata": {},
   "outputs": [
    {
     "data": {
      "image/png": "[encoded data removed]",
      "text/plain": [
       "<Figure size 360x360 with 1 Axes>"
      ]
     },
     "metadata": {},
     "output_type": "display_data"
    }
   ],
   "source": [
    "# Répartition des références disponibles par catégories\n",
    "repation_ref_dispo = product.groupby('categ')['id_prod'].count().reset_index()\n",
    "repation_ref_dispo['proportion_ref_dispo']=repation_ref_dispo['id_prod']/repation_ref_dispo['id_prod'].sum()\n",
    "\n",
    "data = repation_ref_dispo['proportion_ref_dispo']\n",
    "labels = repation_ref_dispo['categ']\n",
    "\n",
    "plt.figure(figsize=(5,5))\n",
    "plt.pie(data, autopct='%.0f%%', \n",
    "        textprops= {'fontsize':20}, \n",
    "        wedgeprops={'edgecolor':\"k\",'linewidth':1,'linestyle':'solid'})\n",
    "\n",
    "plt.title(\"Distibution des livres disponibles par catégories\")\n",
    "plt.legend( loc=1, labels=labels)\n",
    "plt.show()"
   ]
  },
  {
   "cell_type": "code",
   "execution_count": 96,
   "id": "6db45569",
   "metadata": {
    "scrolled": true
   },
   "outputs": [
    {
     "data": {
      "image/png": "[encoded data removed]",
      "text/plain": [
       "<Figure size 360x360 with 1 Axes>"
      ]
     },
     "metadata": {},
     "output_type": "display_data"
    }
   ],
   "source": [
    "# Répartition des références vendues par catégories\n",
    "id_prod_categ = df.groupby('categ',as_index=False)['id_prod'].count()\n",
    "id_prod_categ['proportion_categ_vendu']=id_prod_categ['id_prod']/id_prod_categ['id_prod'].sum()\n",
    "\n",
    "data = id_prod_categ['id_prod']\n",
    "labels = id_prod_categ['categ']\n",
    "\n",
    "plt.figure(figsize=(5,5))\n",
    "plt.pie(data, autopct='%.0f%%', \n",
    "        textprops= {'fontsize':20}, \n",
    "        wedgeprops={'edgecolor':\"k\",'linewidth':1,'linestyle':'solid'})\n",
    "\n",
    "plt.title(\"Distibution des nombres de vente par catégories\")\n",
    "plt.legend( loc=1, labels=labels)\n",
    "plt.show()"
   ]
  },
  {
   "cell_type": "markdown",
   "id": "0836bd9c",
   "metadata": {},
   "source": [
    "**Observation**: Nous observons que le nombre de 'id_produit' par catégories n'est pas équitable. Il y a beaucoup de catégories '0' vendus mais c'est aussi celui qui a le plus d'article disponible. Le nombre de vente supérieur de la catégorie '0' ne serait peut-être pas dû à sa popularité, mais à la quantité d'article de cette catégorie disponible.  \n",
    "\n",
    "**Question**: \n",
    "Est ce qu'il y a un lien entre la répartitions des ventes par catégorie et la répartition des références disponibles par catégorie ?\n",
    "\n",
    "**Hypothèse**:\n",
    "* H0: Proportion des ventes par catégories (proportion observée) sont égales aux proportions des références disponibles par catégories( proportion théorique).\n",
    "* H1: Les proportions ne seront pas égales\n",
    "\n",
    "**Test à faire**:\n",
    "Test pour une proportion: khi²"
   ]
  },
  {
   "cell_type": "code",
   "execution_count": 97,
   "id": "29fc2837",
   "metadata": {},
   "outputs": [
    {
     "data": {
      "text/html": [
       "<div>\n",
       "<style scoped>\n",
       "    .dataframe tbody tr th:only-of-type {\n",
       "        vertical-align: middle;\n",
       "    }\n",
       "\n",
       "    .dataframe tbody tr th {\n",
       "        vertical-align: top;\n",
       "    }\n",
       "\n",
       "    .dataframe thead th {\n",
       "        text-align: right;\n",
       "    }\n",
       "</style>\n",
       "<table border=\"1\" class=\"dataframe\">\n",
       "  <thead>\n",
       "    <tr style=\"text-align: right;\">\n",
       "      <th></th>\n",
       "      <th>categ</th>\n",
       "      <th>id_prod</th>\n",
       "      <th>proportion_categ_vendu</th>\n",
       "      <th>proportion_ref_dispo</th>\n",
       "    </tr>\n",
       "  </thead>\n",
       "  <tbody>\n",
       "    <tr>\n",
       "      <th>0</th>\n",
       "      <td>0</td>\n",
       "      <td>400344</td>\n",
       "      <td>0.603771</td>\n",
       "      <td>0.702464</td>\n",
       "    </tr>\n",
       "    <tr>\n",
       "      <th>1</th>\n",
       "      <td>1</td>\n",
       "      <td>227169</td>\n",
       "      <td>0.342600</td>\n",
       "      <td>0.224825</td>\n",
       "    </tr>\n",
       "    <tr>\n",
       "      <th>2</th>\n",
       "      <td>2</td>\n",
       "      <td>35560</td>\n",
       "      <td>0.053629</td>\n",
       "      <td>0.072711</td>\n",
       "    </tr>\n",
       "  </tbody>\n",
       "</table>\n",
       "</div>"
      ],
      "text/plain": [
       "  categ  id_prod  proportion_categ_vendu  proportion_ref_dispo\n",
       "0     0   400344                0.603771              0.702464\n",
       "1     1   227169                0.342600              0.224825\n",
       "2     2    35560                0.053629              0.072711"
      ]
     },
     "execution_count": 97,
     "metadata": {},
     "output_type": "execute_result"
    }
   ],
   "source": [
    "# Tableau des proportions\n",
    "id_prod_categ['proportion_ref_dispo'] = repation_ref_dispo['proportion_ref_dispo']\n",
    "id_prod_categ"
   ]
  },
  {
   "cell_type": "code",
   "execution_count": 98,
   "id": "6eee9578",
   "metadata": {},
   "outputs": [
    {
     "name": "stdout",
     "output_type": "stream",
     "text": [
      "chi2 Test:0.08057057048328155\n",
      "P-value:0.9605153791994975\n",
      " L'hypothèse null (H0) peut être acceptée\n"
     ]
    }
   ],
   "source": [
    "# Test Chi2\n",
    "stat, p = scipy.stats.chisquare(id_prod_categ['proportion_categ_vendu'],id_prod_categ['proportion_ref_dispo'])\n",
    "print(f\"chi2 Test:{stat}\")\n",
    "print(f\"P-value:{p}\")\n",
    "TestStat(p)"
   ]
  },
  {
   "cell_type": "markdown",
   "id": "1d120f85",
   "metadata": {},
   "source": [
    "**Conclusion**:\n",
    "Les proportions des catégories vendues sont identiques aux proportions des catégories disponibles. Donc nous pourrions hypotéthiser que la quantité de livres vendue de chaque catégorie est influencée par la quantité de livres disponibles de chaque catégorie. "
   ]
  },
  {
   "cell_type": "markdown",
   "id": "bb536103",
   "metadata": {},
   "source": [
    "## Analyse des clients\n",
    "### Répartition du CA entre clients (courbe de Lorenz)"
   ]
  },
  {
   "cell_type": "code",
   "execution_count": 99,
   "id": "3b91c725",
   "metadata": {},
   "outputs": [
    {
     "data": {
      "image/png": "[encoded data removed]",
      "text/plain": [
       "<Figure size 720x360 with 1 Axes>"
      ]
     },
     "metadata": {
      "needs_background": "light"
     },
     "output_type": "display_data"
    },
    {
     "name": "stdout",
     "output_type": "stream",
     "text": [
      "Indice de gini: 0.446724787559757\n"
     ]
    }
   ],
   "source": [
    "# Courbe de Lorenz\n",
    "\n",
    "depense_client = df.groupby('client_id')['price'].sum().reset_index()\n",
    "depense_client.sort_values('price', ascending= False)\n",
    "\n",
    "ca = depense_client['price']\n",
    "\n",
    "n = len(ca)\n",
    "\n",
    "lorenz = np.cumsum(np.sort(ca))/ca.sum()\n",
    "lorenz = np.append([0],lorenz)\n",
    "plt.figure(figsize=(10,5))\n",
    "plt.axes().axis('equal')\n",
    "xaxis  = np.linspace(0-1/n,1+1/n,n+1)\n",
    "\n",
    "plt.plot(xaxis,lorenz, drawstyle='steps-post')\n",
    "plt.title('Répartition du CA entre les clients')\n",
    "\n",
    "plt.xlabel('Proportion cumulée des clients')\n",
    "plt.ylabel('Proportion cumulée du CA')\n",
    "plt.grid()\n",
    "plt.xticks([0.0,0.1,0.2,0.3,0.4,0.5,0.6,0.7,0.8,0.9,1.0])\n",
    "plt.yticks([0.0,0.1,0.2,0.3,0.4,0.5,0.6,0.7,0.8,0.9,1.0])\n",
    "plt.show()\n",
    "\n",
    "AUC = (lorenz.sum() -lorenz[-1]/2 -lorenz[0]/2)/n # Surface sous la courbe de Lorenz. Le premier segment (lorenz[0]) est à moitié en dessous de 0, on le coupe donc en 2, on fait de même pour le dernier segment lorenz[-1] qui est à moitié au dessus de 1.\n",
    "S = 0.5 - AUC # surface entre la première bissectrice et le courbe de Lorenz\n",
    "gini = 2*S\n",
    "print(f\"Indice de gini: {gini}\")"
   ]
  },
  {
   "cell_type": "markdown",
   "id": "10227c22",
   "metadata": {},
   "source": [
    "**Observation**:\n",
    "50 % des clients font 20% du CA pendant que l'autre 50% des clients font 80% du CA. L'indice de Gini étant loin de 0, nous pouvons conclure qu'il n'y a pas une bonne équité entre les clients lambdas."
   ]
  },
  {
   "cell_type": "markdown",
   "id": "24340f49",
   "metadata": {},
   "source": [
    "### Analyse par genre de clients"
   ]
  },
  {
   "cell_type": "code",
   "execution_count": 101,
   "id": "b3759bda",
   "metadata": {},
   "outputs": [
    {
     "data": {
      "text/plain": [
       "genre\n",
       "f    165156\n",
       "m    168291\n",
       "dtype: int64"
      ]
     },
     "execution_count": 101,
     "metadata": {},
     "output_type": "execute_result"
    }
   ],
   "source": [
    "# Nombre de visite par genre\n",
    "df_session = df.groupby('session_id',as_index=False).agg( client_id=('client_id','min'),\n",
    "                                                         genre=('sex','min'),\n",
    "                                                         age=('age','min'),\n",
    "                                                         date_transaction=('date','min'),\n",
    "                                                         ca=('price','sum') )\n",
    "df_session.groupby('genre').size()"
   ]
  },
  {
   "cell_type": "code",
   "execution_count": 102,
   "id": "48003168",
   "metadata": {},
   "outputs": [
    {
     "data": {
      "text/plain": [
       "genre\n",
       "f    4478\n",
       "m    4121\n",
       "dtype: int64"
      ]
     },
     "execution_count": 102,
     "metadata": {},
     "output_type": "execute_result"
    }
   ],
   "source": [
    "# Nombre de clients par genre\n",
    "df_client = df.groupby('client_id',as_index=False).agg(genre=('sex','min'),\n",
    "                                                         ca=('price','sum') )\n",
    "df_client.groupby('genre').size()"
   ]
  },
  {
   "cell_type": "code",
   "execution_count": 111,
   "id": "123ff75c",
   "metadata": {},
   "outputs": [
    {
     "data": {
      "image/png": "[encoded data removed]",
      "text/plain": [
       "<Figure size 720x360 with 1 Axes>"
      ]
     },
     "metadata": {
      "needs_background": "light"
     },
     "output_type": "display_data"
    }
   ],
   "source": [
    "# CA par sexe\n",
    "df_client = df.groupby('client_id',as_index=False).agg(genre=('sex','min'),\n",
    "                                                         ca=('price','sum') )\n",
    "plt.figure(figsize=(10,5))\n",
    "# suppression des outliers identifie precedement\n",
    "df_client= df_client[df_client['ca']<50000]\n",
    "\n",
    "sns.boxplot(x=df_client['genre'], y=df_client['ca'])\n",
    "\n",
    "plt.title('Répartition du CA par client en fonction du genre')\n",
    "plt.xlabel('Genre')\n",
    "plt.ylabel('CA total des clients')\n",
    "plt.show()"
   ]
  },
  {
   "cell_type": "markdown",
   "id": "8de4cdf1",
   "metadata": {},
   "source": [
    "**Question: Est ce qu'il y a une différence CA entre les hommes et les femmes ?**\n",
    "\n",
    "**Hypothèse**:\n",
    "* Hypothèse H0: Pas de différence de CA entre homme et femme\n",
    "* Hypothèse H1: Le CA est dépendant du genre des clients\n",
    "\n",
    "**Variable**:\n",
    "Variable d'étude: Genre, variable qualitative(2 groupes), indépendant\n",
    "Variable de réponse: CA, variable quantitatives\n",
    "\n",
    "**Test utilisé**:\n",
    "1) Comparaison des distribution: Kolmogorov-Smirnov\n",
    "\n",
    "\n",
    "2) Test des moyennes :T-test de student (paramétrique) ou Mann-Whitney ( non-paramétrique)\n",
    "* Variance égale(Test de bartlett)=> T-test de student\n",
    "* Variance non-égale => Mann-Whitney\n",
    "\n",
    "T-test de student: \n",
    "- Mesures sont indépendantes ☑\n",
    "- Echantillons ont des variance égales - A tester\n",
    "- Au moins 20 individus dans le dispositif ou normalité des population supposée ou vérifiée ☑\n",
    "\n",
    "Conditions non remplies => Mann-Whitney\n"
   ]
  },
  {
   "cell_type": "code",
   "execution_count": 112,
   "id": "6da922ee",
   "metadata": {},
   "outputs": [],
   "source": [
    "# Création des échantillons\n",
    "ca_m = df_client[df_client['genre']=='m']['ca'].to_numpy()\n",
    "ca_f = df_client[df_client['genre']=='f']['ca'].to_numpy()"
   ]
  },
  {
   "cell_type": "code",
   "execution_count": 113,
   "id": "cc22d8e4",
   "metadata": {},
   "outputs": [
    {
     "name": "stdout",
     "output_type": "stream",
     "text": [
      "Kolmogorov-Smirnov: 0.009485587281516461\n",
      "P-value: 0.9891545820946857\n",
      " L'hypothèse null (H0) peut être acceptée\n"
     ]
    }
   ],
   "source": [
    "# 1) Comparaison des distribution: Kolmogorov-Smirnov\n",
    "stat, p_value = scipy.stats.kstest(ca_m,ca_f)\n",
    "print(f\"Kolmogorov-Smirnov: {stat}\")\n",
    "print(f\"P-value: {p_value}\")\n",
    "TestStat(p_value)"
   ]
  },
  {
   "cell_type": "code",
   "execution_count": 114,
   "id": "209e9c80",
   "metadata": {},
   "outputs": [
    {
     "name": "stdout",
     "output_type": "stream",
     "text": [
      "Bartlett's test statistic: 0.5533730393366626\n",
      "P-value: 0.45694273805400554\n",
      " La variance est égale entre les deux échantillons\n"
     ]
    }
   ],
   "source": [
    "# 2) Test des moyennes\n",
    "# Test de variance\n",
    "stat, p_value = scipy.stats.bartlett(ca_m, ca_f)\n",
    "print(f\"Bartlett's test statistic: {stat}\")\n",
    "print(f\"P-value: {p_value}\")\n",
    "TestVariance(p_value)"
   ]
  },
  {
   "cell_type": "markdown",
   "id": "a36a99fe",
   "metadata": {},
   "source": [
    "##### Les échantillons ont une variance égale, donc nous pouvons faire un test de Student"
   ]
  },
  {
   "cell_type": "code",
   "execution_count": 115,
   "id": "ae65a90b",
   "metadata": {},
   "outputs": [
    {
     "name": "stdout",
     "output_type": "stream",
     "text": [
      "Test de Student: 0.14882383259887086\n",
      "P-value: 0.8816961366199914\n",
      " L'hypothèse null (H0) peut être acceptée\n"
     ]
    }
   ],
   "source": [
    "# Test de moyenne\n",
    "stat, p_value = scipy.stats.ttest_ind(ca_m,ca_f)\n",
    "print(f\"Test de Student: {stat}\")\n",
    "print(f\"P-value: {p_value}\")\n",
    "TestStat(p_value)"
   ]
  },
  {
   "cell_type": "markdown",
   "id": "b31b033d",
   "metadata": {},
   "source": [
    "**Conclusion**:\n",
    "Les deux échantillons on des moyennes égales et ont une distribution similaire. Nous pouvons estimer qu'il n'y a pas de différences significatives de dépenses entre les hommes et les femmes. "
   ]
  },
  {
   "cell_type": "markdown",
   "id": "a8bb3f1b",
   "metadata": {},
   "source": [
    "### Analyse des 'age' des clients"
   ]
  },
  {
   "cell_type": "code",
   "execution_count": 117,
   "id": "498902d9",
   "metadata": {},
   "outputs": [
    {
     "data": {
      "image/png": "[encoded data removed]",
      "text/plain": [
       "<Figure size 1080x360 with 1 Axes>"
      ]
     },
     "metadata": {
      "needs_background": "light"
     },
     "output_type": "display_data"
    }
   ],
   "source": [
    "# CA moyen par produit par age\n",
    "ca_age = df.groupby('age').agg(ca_total = ('price','sum'), \n",
    "                               nombre_par_age = ('age','count')).reset_index()\n",
    "ca_age['CA moyen']= ca_age['ca_total']/ca_age['nombre_par_age']\n",
    "\n",
    "# Barplot des CA moyens par age\n",
    "plt.figure(figsize=(15, 5))\n",
    "ax = sns.barplot(x=ca_age['age'], y= ca_age['CA moyen'],color='blue')\n",
    "\n",
    "ax.set_xticklabels(ax.get_xticklabels(), rotation=90)\n",
    "\n",
    "plt.title('CA moyen par age')\n",
    "plt.show()"
   ]
  },
  {
   "cell_type": "code",
   "execution_count": 118,
   "id": "32b583ad",
   "metadata": {},
   "outputs": [],
   "source": [
    "# Regrouper la variable age en trois groupes\n",
    "labels= [\"17-30\", \"31-50\", \"50+\"]\n",
    "df['AgeGroup'] = pd.cut(df['age'], [17, 30, 50, 100], labels=labels, include_lowest=True)"
   ]
  },
  {
   "cell_type": "markdown",
   "id": "4c860d9a",
   "metadata": {},
   "source": [
    "### Autres information utiles"
   ]
  },
  {
   "cell_type": "code",
   "execution_count": 119,
   "id": "eb7287fd",
   "metadata": {},
   "outputs": [
    {
     "data": {
      "image/png": "[encoded data removed]",
      "text/plain": [
       "<Figure size 432x288 with 1 Axes>"
      ]
     },
     "metadata": {
      "needs_background": "light"
     },
     "output_type": "display_data"
    }
   ],
   "source": [
    "# Nombre de vente en fonction du prix de produit\n",
    "nombre_vente_price = df.groupby(['id_prod','price'])['session_id'].count().reset_index()\n",
    "nombre_vente_price.plot.scatter(x='price', y='session_id')\n",
    "\n",
    "plt.title(' Nombre de ventes en fonction du prix par référence')\n",
    "plt.xlabel('prix')\n",
    "plt.ylabel('Nombre de ventes')\n",
    "\n",
    "plt.show()"
   ]
  },
  {
   "cell_type": "markdown",
   "id": "2f4b6d05",
   "metadata": {},
   "source": [
    "**Observation:**\n",
    "Le prix d'un produit ne semble pas avoir une influence sur le nombre de ventes. Nous avons une clientèle qui a tendance à acheter des articles à petits prix.\n"
   ]
  },
  {
   "cell_type": "code",
   "execution_count": 120,
   "id": "1156d57e",
   "metadata": {},
   "outputs": [
    {
     "data": {
      "image/png": "[encoded data removed]",
      "text/plain": [
       "<Figure size 432x288 with 1 Axes>"
      ]
     },
     "metadata": {
      "needs_background": "light"
     },
     "output_type": "display_data"
    }
   ],
   "source": [
    "# CA par session vs nombre d'articles par session\n",
    "ca_taille = df.groupby(['session_id'])['price'].agg(['sum', len]).reset_index()\n",
    "ca_taille.plot.scatter(x='sum', y='len')\n",
    "\n",
    "plt.title(\"Montant total en fonction du nombre d'articles achetés par session\")\n",
    "plt.ylabel(\"Nombre d'articles\")\n",
    "plt.ylabel(\"Montant total de la session\")\n",
    "plt.show()"
   ]
  },
  {
   "cell_type": "markdown",
   "id": "d9e2f66b",
   "metadata": {},
   "source": [
    "**Observation**: \n",
    "Nous n'observons pas de relation évidente entre le nombre d'articles achetés et le montant total de la session."
   ]
  },
  {
   "cell_type": "code",
   "execution_count": 121,
   "id": "7f59febb",
   "metadata": {},
   "outputs": [],
   "source": [
    "# Enregistrement des changements faits à la dataframe 'df' en csv pour être utilisés pour la derniere partie\n",
    "df.to_csv('df2.csv')"
   ]
  },
  {
   "cell_type": "code",
   "execution_count": null,
   "id": "7fab9764",
   "metadata": {},
   "outputs": [],
   "source": []
  }
 ],
 "metadata": {
  "kernelspec": {
   "display_name": "Python 3 (ipykernel)",
   "language": "python",
   "name": "python3"
  },
  "language_info": {
   "codemirror_mode": {
    "name": "ipython",
    "version": 3
   },
   "file_extension": ".py",
   "mimetype": "text/x-python",
   "name": "python",
   "nbconvert_exporter": "python",
   "pygments_lexer": "ipython3",
   "version": "3.9.7"
  }
 },
 "nbformat": 4,
 "nbformat_minor": 5
}
